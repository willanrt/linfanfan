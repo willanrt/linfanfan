{
 "cells": [
  {
   "cell_type": "code",
   "execution_count": 2,
   "metadata": {},
   "outputs": [
    {
     "name": "stdout",
     "output_type": "stream",
     "text": [
      "['H', 'P', 'a', 't', 'P', 's', 'S', 'i', 't', 'f', 'n', 'i', 't', 'H', 'P', 's', 'w', 'b', 'J', 'K', 'R', 'a', 'f', 'H', 'P']\n"
     ]
    }
   ],
   "source": [
    "import re\n",
    "shuju = \"Harry Potter and the Philosopher's Stone is the first novel in the Harry Potter series written by J. K. Rowling and featuring Harry Potter.\"\n",
    "x = re.findall(r\"\\b\\w\", shuju)  # \\w : [a-zA-Z0-9_],\\b: 空白字符\n",
    "print(x)"
   ]
  },
  {
   "cell_type": "code",
   "execution_count": 61,
   "metadata": {},
   "outputs": [
    {
     "name": "stdout",
     "output_type": "stream",
     "text": [
      "[('1049', '张三', '李四', '珠海市', '武汉市'), ('1050', '王五', '赵六', '天津市', '北京市'), ('1049', '钱七', '周八', '海口市', '广州市')]\n"
     ]
    }
   ],
   "source": [
    "import re\n",
    "xinxi = '''\n",
    "定单编号：  1049\n",
    "寄件人：   张三\n",
    "收件人：   李四\n",
    "寄件地址：  珠海市\n",
    "到货地址： 武汉市\n",
    "定单编号：  1050\n",
    "寄件人：   王五\n",
    "收件人：   赵六\n",
    "寄件地址：  天津市\n",
    "到货地址：  北京市\n",
    "定单编号：  1049\n",
    "寄件人：   钱七\n",
    "收件人：   周八\n",
    "寄件地址：  海口市\n",
    "到货地址： 广州市\n",
    "'''\n",
    "y = re.findall( r\"定单编号：  (\\d{4})\\n寄件人：   (.+)\\n收件人：   (.+)\\n寄件地址：  (.+)\\n到货地址：  ?(.+)\", xinxi) # ?:代表对空格进行是否（该文段空格不统一）\n",
    "print(y)\n"
   ]
  },
  {
   "cell_type": "code",
   "execution_count": 43,
   "metadata": {},
   "outputs": [
    {
     "name": "stdout",
     "output_type": "stream",
     "text": [
      "11120015613@qq.com，11abcakj@qq.com，11xaksjdnas23@qq.com， abc!askdnla@qq.com，56378925@qq.com，1568#@qq.com，18923@qq.com，11683@qq.com。\n"
     ]
    }
   ],
   "source": [
    "import re\n",
    "youxiang = '11120015613@qq.com，11abcakj@google.com，11xaksjdnas23@12306.com， abc!askdnla@gmail.com，56378925@yoole.com，1568#@ert.com，18923@zhbit.com，11683@hhhh.com。'\n",
    "M =re.sub(r\"@\\w+.com\", \"@qq.com\", youxiang)\n",
    "print(M)"
   ]
  },
  {
   "cell_type": "code",
   "execution_count": 10,
   "metadata": {},
   "outputs": [
    {
     "name": "stdout",
     "output_type": "stream",
     "text": [
      "['2022年CPI同比涨幅会如何变动?如何实现3%的目标', '政府出台的对中小微企业的帮扶释放了哪些信号', '', '就业目标新增1100万人以上', '，', '如何看待灵活就业', '', '实现共同富裕应当走什么样的路径', '', '今天', '3月9日', '晚上', '', '两会夜话', '直播特别节目第五期，全国政协委员杨伟民', '王一鸣，全国人大代表张兆安邀您云上夜话，一起来聊聊和GDP有关的那些事', '', '总台记者 薛晨 刘苏 王新琦 李竟成 颜蔚然', '；']\n"
     ]
    }
   ],
   "source": [
    "import re\n",
    "wenzi = '2022年CPI同比涨幅会如何变动?如何实现3%的目标？政府出台的对中小微企业的帮扶释放了哪些信号？’就业目标新增1100万人以上’，”如何看待灵活就业？”实现共同富裕应当走什么样的路径？\\今天（3月9日）晚上.《两会夜话》直播特别节目第五期，全国政协委员杨伟民/王一鸣，全国人大代表张兆安邀您云上夜话，一起来聊聊和GDP有关的那些事。(总台记者 薛晨 刘苏 王新琦 李竟成 颜蔚然)；'\n",
    "print(re.split(r\"[？/.。‘’“”《》()（）\\\\]\", wenzi))\n"
   ]
  },
  {
   "cell_type": "code",
   "execution_count": null,
   "metadata": {},
   "outputs": [],
   "source": []
  }
 ],
 "metadata": {
  "interpreter": {
   "hash": "041f28ff36a992f0ce1e1d01f24835557524961c1d26919529d012b4754275df"
  },
  "kernelspec": {
   "display_name": "Python 3.10.2 64-bit",
   "language": "python",
   "name": "python3"
  },
  "language_info": {
   "codemirror_mode": {
    "name": "ipython",
    "version": 3
   },
   "file_extension": ".py",
   "mimetype": "text/x-python",
   "name": "python",
   "nbconvert_exporter": "python",
   "pygments_lexer": "ipython3",
   "version": "3.10.2"
  },
  "orig_nbformat": 4
 },
 "nbformat": 4,
 "nbformat_minor": 2
}
