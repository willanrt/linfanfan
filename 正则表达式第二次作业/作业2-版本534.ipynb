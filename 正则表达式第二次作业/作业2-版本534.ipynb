{
 "cells": [
  {
   "cell_type": "code",
   "execution_count": 1,
   "id": "proof-pickup",
   "metadata": {},
   "outputs": [
    {
     "name": "stdout",
     "output_type": "stream",
     "text": [
      "['H']\n"
     ]
    }
   ],
   "source": [
    "import re\n",
    "text = r\"Harry Potter and the Philosopher's Stone is the first novel in the Harry Potter series written by J. K. Rowling and featuring Harry Potter.\"\n",
    "#rules = r\"\\b\\w\"\n",
    "rules = r'^\\w'\n",
    "print(re.findall(rules,text))"
   ]
  },
  {
   "cell_type": "code",
   "execution_count": 5,
   "id": "abandoned-knight",
   "metadata": {},
   "outputs": [
    {
     "name": "stdout",
     "output_type": "stream",
     "text": [
      "[('1049', '张三', '李四', '珠海市', '武汉市'), ('1050', '王五', '赵六', '天津市', '北京市'), ('1049', '钱七', '周八', '海口市', '广州市')]\n"
     ]
    }
   ],
   "source": [
    "information = \"\"\"\n",
    "定单编号：  1049\n",
    "寄件人：   张三\n",
    "收件人：   李四\n",
    "寄件地址：  珠海市\n",
    "到货地址： 武汉市\n",
    "定单编号：  1050\n",
    "寄件人：   王五\n",
    "收件人：   赵六\n",
    "寄件地址：  天津市\n",
    "到货地址： 北京市\n",
    "定单编号：  1049\n",
    "寄件人：   钱七\n",
    "收件人：   周八\n",
    "寄件地址：  海口市\n",
    "到货地址： 广州市\n",
    "\"\"\"\n",
    "\n",
    "rules = \"定单编号：\\s*(.+) *\\n寄件人：\\s*(.+) *\\n收件人：\\s*(.+) *\\n寄件地址：\\s*(.+) *\\n到货地址：\\s*(.+) *\\n\"\n",
    "res4 = re.findall(rules,information)\n",
    "print(res4)\n",
    "#print(re.findall(r\"\\b(.+)\\b\",res4[0]))"
   ]
  },
  {
   "cell_type": "code",
   "execution_count": 30,
   "id": "variable-lingerie",
   "metadata": {},
   "outputs": [
    {
     "name": "stdout",
     "output_type": "stream",
     "text": [
      "11120015613@qq.com，11abcakj@qq.com，11xaksjdnas23@qq.com， abc!askdnla@qq.com，56378925@qq.com，1568#@qq.com，18923@qq.com，11683@qq.com。\n"
     ]
    }
   ],
   "source": [
    "mail = \"11120015613@qq.com，11abcakj@google.com，11xaksjdnas23@12306.com， abc!askdnla@gmail.com，56378925@yoole.com，1568#@ert.com，18923@zhbit.com，11683@hhhh.com。\"\n",
    "rules = r\"@\\w+\\.\"\n",
    "res = re.sub(rules,\"@qq.\",mail)\n",
    "print(res)"
   ]
  },
  {
   "cell_type": "code",
   "execution_count": 34,
   "id": "opened-infrastructure",
   "metadata": {},
   "outputs": [
    {
     "name": "stdout",
     "output_type": "stream",
     "text": [
      "['\\n2022年CPI同比涨幅会如何变动', '如何实现3%的目标', '政府出台的对中小微企业的帮扶释放了哪些信号', '', '就业目标新增1100万人以上', '', '', '如何看待灵活就业', '', '实现共同富裕应当走什么样的路径', '', '今天', '3月9日', '晚上', '', '两会夜话', '直播特别节目第五期', '全国政协委员杨伟民', '王一鸣', '全国人大代表张兆安邀您云上夜话', '一起来聊聊和GDP有关的那些事', '', '总台记者 薛晨 刘苏 王新琦 李竟成 颜蔚然', '', '\\n']\n"
     ]
    }
   ],
   "source": [
    "information = \"\"\"\n",
    "2022年CPI同比涨幅会如何变动?如何实现3%的目标？政府出台的对中小微企业的帮扶释放了哪些信号？’就业目标新增1100万人以上’，”如何看待灵活就业？”实现共同富裕应当走什么样的路径？\\今天（3月9日）晚上.《两会夜话》直播特别节目第五期，全国政协委员杨伟民/王一鸣，全国人大代表张兆安邀您云上夜话，一起来聊聊和GDP有关的那些事。（总台记者 薛晨 刘苏 王新琦 李竟成 颜蔚然）；\n",
    "\"\"\"\n",
    "rules = r'[?？，,。\\.‘’\\'\\\"；\\\\、/\\(\\)“”《》（）]'\n",
    "res2 = re.split(rules,information)\n",
    "print(res2)"
   ]
  },
  {
   "cell_type": "code",
   "execution_count": null,
   "id": "infrared-organic",
   "metadata": {},
   "outputs": [],
   "source": []
  },
  {
   "cell_type": "code",
   "execution_count": null,
   "id": "super-travel",
   "metadata": {},
   "outputs": [],
   "source": [
    "##  re.sub(r'@(.+).com','@qq.com',information)"
   ]
  },
  {
   "cell_type": "code",
   "execution_count": 2,
   "id": "ceramic-ocean",
   "metadata": {},
   "outputs": [
    {
     "name": "stdout",
     "output_type": "stream",
     "text": [
      "[('1049', '张三', '李四', '珠海市', '武汉市'), ('1050', '王五', '赵六', '天津市', '北京市'), ('1049', '钱七', '周八', '海口市', '广州市')]\n"
     ]
    }
   ],
   "source": [
    "express=\"\"\"\n",
    "定单编号：  1049\n",
    "寄件人：   张三\n",
    "收件人：   李四\n",
    "寄件地址：  珠海市\n",
    "到货地址： 武汉市\n",
    "定单编号：  1050\n",
    "寄件人：   王五\n",
    "收件人：   赵六\n",
    "寄件地址：  天津市\n",
    "到货地址：  北京市\n",
    "定单编号：  1049\n",
    "寄件人：   钱七\n",
    "收件人：   周八\n",
    "寄件地址：  海口市\n",
    "到货地址： 广州市\n",
    "\"\"\"\n",
    "\n",
    "express_clean=re.sub(r' *',\"\",express)#clear the white space\n",
    "#print(express_clean,type(express_clean))\n",
    "\n",
    "express_regex=re.compile(r'定单编号：(\\d+)\\n寄件人：(\\w+)\\n收件人：(\\w+)\\n寄件地址：(\\w+)\\n到货地址：(\\w+)')\n",
    "express_match=re.findall(express_regex,express_clean)\n",
    "print(express_match)"
   ]
  },
  {
   "cell_type": "code",
   "execution_count": 3,
   "id": "visible-share",
   "metadata": {},
   "outputs": [
    {
     "name": "stdout",
     "output_type": "stream",
     "text": [
      "[('1049', '张三', '李四', '珠海市', '武汉市'), ('1050', '王五', '赵六', '天津市', '北京市'), ('1049', '钱七', '周八', '海口市', '广州市')]\n"
     ]
    }
   ],
   "source": [
    "import re\n",
    "pattern = r\"定单编号：\\s+(\\d+)\\n寄件人：\\s+(\\w+)\\n收件人：\\s+(\\w+)\\n寄件地址：\\s+(\\w+)\\n到货地址：\\s+(\\w+)\"\n",
    "match = re.findall(pattern,express)\n",
    "print(match)"
   ]
  },
  {
   "cell_type": "code",
   "execution_count": 2,
   "id": "productive-alexandria",
   "metadata": {},
   "outputs": [
    {
     "name": "stdout",
     "output_type": "stream",
     "text": [
      "[' H', ' P', ' a', ' t', ' P', ' S', ' i', ' t', ' f', ' n', ' i', ' t', ' H', ' P', ' s', ' w', ' b', ' J', ' K', ' R', ' a', ' f', ' H', ' P']\n"
     ]
    }
   ],
   "source": [
    "import re\n",
    "text = r\" Harry Potter and the Philosopher's Stone is the first novel in the Harry Potter series written by J. K. Rowling and featuring Harry Potter.\"\n",
    "rules = r\" +\\w\"\n",
    "print(re.findall(rules,text))"
   ]
  },
  {
   "cell_type": "code",
   "execution_count": 10,
   "id": "transparent-grill",
   "metadata": {},
   "outputs": [],
   "source": []
  },
  {
   "cell_type": "code",
   "execution_count": 12,
   "id": "prerequisite-adolescent",
   "metadata": {},
   "outputs": [
    {
     "name": "stdout",
     "output_type": "stream",
     "text": [
      "['H', 'P', 'a', 't', 'P', 'S', 'i', 't', 'f', 'n', 'i', 't', 'H', 'P', 's', 'w', 'b', 'J', 'K', 'R', 'a', 'f', 'H']\n"
     ]
    }
   ],
   "source": [
    "import re\n",
    "english=(\"Harry Potter and the Philosopher\\'s Stone is the first novel in the Harry Potter series written by J. K. Rowling and featuring Harry Potter.\")\n",
    "shouzimu= re.findall(r\"([A-Za-z]).*? \", english)\n",
    "index_list=[]\n",
    "print(shouzimu)"
   ]
  },
  {
   "cell_type": "code",
   "execution_count": 18,
   "id": "fallen-kinase",
   "metadata": {},
   "outputs": [
    {
     "data": {
      "text/plain": [
       "'11120015613@qq.com，11abcakj@qq.com，，11xaksjdnas23@qq.com， abc!askdnla@qq.com，56378925@qq.com，1568#@qq.com，923@qq.com，11683@qq.com，'"
      ]
     },
     "execution_count": 18,
     "metadata": {},
     "output_type": "execute_result"
    }
   ],
   "source": [
    "x = \"11120015613@qq.com，11abcakj@google.com，11xaksjdnas23@12306.com， abc!askdnla@gmail.com，56378925@yoole.com，1568#@ert.com，18923@zhbit.com，11683@hhhh.com\"\n",
    "re.sub(\"@[^qq]{6,10}\",\"@qq.com，\",x)"
   ]
  },
  {
   "cell_type": "code",
   "execution_count": 19,
   "id": "unusual-equity",
   "metadata": {},
   "outputs": [
    {
     "name": "stdout",
     "output_type": "stream",
     "text": [
      "['定单编号：1049寄件人：张三收件人：李四寄件地址：珠海市到货地址：武汉市定单编号：1050寄件人：王五收件人：赵六寄件地址：天津市到货地址：北京市定单编号：1049寄件人：钱七收件人：周八寄件地址：海口市到货地址：广州市']\n"
     ]
    }
   ],
   "source": [
    "import re\n",
    "a =\"\"\"定单编号：  1049\n",
    "寄件人：   张三\n",
    "收件人：   李四\n",
    "寄件地址：  珠海市\n",
    "到货地址： 武汉市\n",
    "定单编号：  1050\n",
    "寄件人：   王五\n",
    "收件人：   赵六\n",
    "寄件地址：  天津市\n",
    "到货地址：  北京市\n",
    "定单编号：  1049\n",
    "寄件人：   钱七\n",
    "收件人：   周八\n",
    "寄件地址：  海口市\n",
    "到货地址： 广州市\"\"\"\n",
    "d = re.sub(r'\\s+','',a)\n",
    "b = r\"[定单编号：|寄件人：|收件人：|寄件地址：|到货地址：].+\"\n",
    "c = re.findall(b,d)\n",
    "print(c)"
   ]
  },
  {
   "cell_type": "code",
   "execution_count": 22,
   "id": "arctic-signal",
   "metadata": {},
   "outputs": [
    {
     "name": "stdout",
     "output_type": "stream",
     "text": [
      "['H', 'P', 'a', 't', 's', 'S', 'i', 't', 'f', 'n', 'i', 't', 'H', 'P', 's', 'w', 'b', 'R', 'a', 'f', 'H', 'P']\n"
     ]
    }
   ],
   "source": [
    "import re # 引用模块\n",
    "text = \"\"\"Harry Potter and the Philosopher's Stone is the first novel in \n",
    "the Harry Potter series written by J. K. Rowling and featuring Harry Po\n",
    "tter.\"\"\"\n",
    "gui = r\"(\\w)\\w*\\s\" # 设置规则\n",
    "x = re.findall(gui,text) # 进行匹配\n",
    "print(x)"
   ]
  },
  {
   "cell_type": "code",
   "execution_count": 25,
   "id": "hundred-offering",
   "metadata": {},
   "outputs": [
    {
     "name": "stdout",
     "output_type": "stream",
     "text": [
      "[('1050', '  王五', '  赵六', ' 天津市', '北京市')]\n"
     ]
    }
   ],
   "source": [
    "y=r'定单编号：.+(\\d{4})\\n寄件人：.(.+)\\n收件人：.(.+)\\n寄件地址：.(.+)\\n到货地址：. (.+)'\n",
    "c = re.findall(y,a)\n",
    "print(c)"
   ]
  },
  {
   "cell_type": "code",
   "execution_count": 26,
   "id": "novel-partner",
   "metadata": {},
   "outputs": [
    {
     "name": "stdout",
     "output_type": "stream",
     "text": [
      "['H', 'P', 'a', 't', 'P', 'S', 'i', 't', 'f', 'n', 'i', 't', 'H', 'P', 's', 'w', 'b', 'J', 'K', 'R', 'a', 'f', 'H', 'P']\n"
     ]
    }
   ],
   "source": [
    "import re \n",
    "pattern = r'[‘ ](.)'\n",
    "str = \"‘Harry Potter and the Philosopher's Stone is the first novel in the Harry Potter series written by J. K. Rowling and featuring Harry Potter.’\"\n",
    "match = re.findall(pattern,str)\n",
    "print(match)"
   ]
  },
  {
   "cell_type": "code",
   "execution_count": 27,
   "id": "subjective-enclosure",
   "metadata": {},
   "outputs": [
    {
     "name": "stdout",
     "output_type": "stream",
     "text": [
      "['H', 'P', 'a', 't', 'P', 'S', 'i', 't', 'f', 'n', 'i', 't', 'H', 'P', 's', 'w', 'b', 'J', 'K', 'R', 'a', 'f', 'H']\n"
     ]
    }
   ],
   "source": [
    "\n",
    "text = \"Harry Potter and the Philosopher‘s Stone is the first novel in the Harry Potter series written by J. K. Rowling and featuring Harry Potter.\"\n",
    "num = re.findall(r\"([A-Za-z]).*? \", text)\n",
    "print(num)"
   ]
  },
  {
   "cell_type": "code",
   "execution_count": null,
   "id": "endangered-friday",
   "metadata": {},
   "outputs": [],
   "source": []
  }
 ],
 "metadata": {
  "kernelspec": {
   "display_name": "Python 3",
   "language": "python",
   "name": "python3"
  },
  "language_info": {
   "codemirror_mode": {
    "name": "ipython",
    "version": 3
   },
   "file_extension": ".py",
   "mimetype": "text/x-python",
   "name": "python",
   "nbconvert_exporter": "python",
   "pygments_lexer": "ipython3",
   "version": "3.10.2"
  }
 },
 "nbformat": 4,
 "nbformat_minor": 5
}
