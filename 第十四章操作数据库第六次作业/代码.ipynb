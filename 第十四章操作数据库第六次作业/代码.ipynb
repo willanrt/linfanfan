{
 "cells": [
  {
   "cell_type": "code",
   "execution_count": 4,
   "metadata": {},
   "outputs": [
    {
     "name": "stdout",
     "output_type": "stream",
     "text": [
      "24 马X丰 191205102433_24 马X丰.txt 24.txt\n",
      "32温X悦191205102670_32.txt 32.txt\n",
      "34梁X烨_34.txt 34.txt\n",
      "41梁X浩_41.txt 41.txt\n",
      "42-沈X玮-191205105445_数据预处理.txt 42.txt\n",
      "58 徐X麟 191205102645_58 徐X麟.txt 58.txt\n",
      "何X潼_37.txt 37.txt\n",
      "李X_17.txt 17.txt\n",
      "李X翔_61 李X翔.txt 61.txt\n",
      "梁X斌_11.txt 11.txt\n",
      "江X_54.txt 54.txt\n",
      "蔡X康_38.txt 38.txt\n",
      "贾X然_45_label.txt 45.txt\n",
      "邓X友_13邓X友191205101701.txt 13.txt\n",
      "陈X丽_1.txt 1.txt\n",
      "陈X锐_53.txt 53.txt\n",
      "陈X颜_14.txt 14.txt\n",
      "黄X_15黄X191205101773.txt 15.txt\n",
      "黄X添_18黄X添191205101850.txt 18.txt\n"
     ]
    }
   ],
   "source": [
    "import os\n",
    "import re\n",
    "path = 'C:/Users/f1241/Desktop/python/python进阶/第十四章操作数据库第六次作业/附加题'\n",
    "x = os.listdir(path)\n",
    "a = 0\n",
    "rule = r\"_(\\d{1,2})|(\\d{2})-\"\n",
    "name = re.findall(rule, str(x))\n",
    "#print(name)\n",
    "rule_0 = r\"\\d\\d?\"\n",
    "new_name = re.findall(rule_0, str(name))\n",
    "#print(new_name)\n",
    "os.chdir(path)\n",
    "for i in x:\n",
    "    oldDir = x[a]\n",
    "    newDir = new_name[a] + oldDir[oldDir.index('.'):]# 新文件\n",
    "    os.rename(oldDir, newDir)\n",
    "    print(oldDir, newDir)\n",
    "    a += 1  \n"
   ]
  },
  {
   "cell_type": "code",
   "execution_count": 1,
   "metadata": {},
   "outputs": [
    {
     "name": "stdout",
     "output_type": "stream",
     "text": [
      "[('24', ''), ('32', ''), ('34', ''), ('41', ''), ('', '42'), ('58', ''), ('37', ''), ('17', ''), ('61', ''), ('11', ''), ('54', ''), ('38', ''), ('45', ''), ('13', ''), ('1', ''), ('53', ''), ('14', ''), ('15', ''), ('18', '')]\n",
      "['24', '32', '34', '41', '42', '58', '37', '17', '61', '11', '54', '38', '45', '13', '1', '53', '14', '15', '18']\n"
     ]
    }
   ],
   "source": [
    "import os\n",
    "import re\n",
    "path = 'C:/Users/f1241/Desktop/python/python进阶/第十四章操作数据库第六次作业/附加题'\n",
    "x = os.listdir(path)\n",
    "a = 0\n",
    "rule = r\"_(\\d{1,2})|(\\d{2})-\"\n",
    "name = re.findall(rule, str(x))\n",
    "print(name)\n",
    "rule_0 = r\"\\d\\d?\"\n",
    "new_name = re.findall(rule_0,str(name))\n",
    "print(new_name)\n"
   ]
  },
  {
   "cell_type": "code",
   "execution_count": null,
   "metadata": {},
   "outputs": [],
   "source": []
  }
 ],
 "metadata": {
  "interpreter": {
   "hash": "041f28ff36a992f0ce1e1d01f24835557524961c1d26919529d012b4754275df"
  },
  "kernelspec": {
   "display_name": "Python 3.10.4 64-bit",
   "language": "python",
   "name": "python3"
  },
  "language_info": {
   "codemirror_mode": {
    "name": "ipython",
    "version": 3
   },
   "file_extension": ".py",
   "mimetype": "text/x-python",
   "name": "python",
   "nbconvert_exporter": "python",
   "pygments_lexer": "ipython3",
   "version": "3.10.4"
  },
  "orig_nbformat": 4
 },
 "nbformat": 4,
 "nbformat_minor": 2
}
