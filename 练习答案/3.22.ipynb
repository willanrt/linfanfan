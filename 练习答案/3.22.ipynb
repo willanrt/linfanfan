{
 "cells": [
  {
   "cell_type": "code",
   "execution_count": null,
   "metadata": {},
   "outputs": [],
   "source": [
    "class GoodCal:\n",
    "    name = \"yy zhou\"\n",
    "    price = 10000\n",
    "\n",
    "    def __init__(self, price):\n",
    "        self.price = price\n",
    "        self.__price = 20\n",
    "    def plus(self, x, y):\n",
    "        return x + y + self.price + self.__price\n",
    "\n",
    "    def time(self, x, y):\n",
    "        return x*y\n",
    "\n",
    "    def all_cal(self, x, y):\n",
    "        return self.plus(x, y)/self.plus(x, y)\n"
   ]
  },
  {
   "cell_type": "code",
   "execution_count": null,
   "metadata": {},
   "outputs": [],
   "source": [
    "func = GoodCal(20000)\n",
    "print(func.plus(4, 2))\n"
   ]
  },
  {
   "cell_type": "code",
   "execution_count": null,
   "metadata": {},
   "outputs": [],
   "source": [
    "class Fruit:\n",
    "    food_class = \"水源\"\n",
    "    def __int__(self,food_class = food_class):\n",
    "        self.food_class = food_class\n",
    "    def price(self,x):\n",
    "        print(\"水果的价格为：\",x)\n",
    "    def size(self,x):\n",
    "        print(\"水果的大小：\",x)\n",
    "class Apple(Fruit):\n",
    "    def color(self,x):\n",
    "        print(\"颜色：\",x)\n",
    "    def local(self,x):\n",
    "        print(\"苹果的地：\",x)\n",
    "class Orange(Fruit):\n",
    "    def color(self,x):\n",
    "        print(\"颜色：\",x)\n",
    "    def local(self,x):\n",
    "        print(\"橙子的地：\",x)\n",
    "apple = Apple()     \n",
    "print(apple.food_class) \n",
    "print(apple.price(100))#函数没有输出-return\n",
    "print(apple.local(\"Chinese\")) "
   ]
  },
  {
   "cell_type": "code",
   "execution_count": 2,
   "metadata": {},
   "outputs": [
    {
     "name": "stdout",
     "output_type": "stream",
     "text": [
      "水源\n",
      "水果的价格为：100元/斤\n",
      "苹果的地：Chinese山西\n"
     ]
    }
   ],
   "source": [
    "class Fruit:\n",
    "    food_class = \"水源\"\n",
    "\n",
    "    def __int__(self, food_class=food_class):\n",
    "        self.food_class = food_class\n",
    "\n",
    "    def price(self, x):\n",
    "        return \"水果的价格为：{}\".format(x)\n",
    "\n",
    "    def size(self, x):\n",
    "        return \"水果的大小：{}\".format(x)\n",
    "\n",
    "\n",
    "class Apple(Fruit):\n",
    "    def color(self, x):\n",
    "        return \"颜色：{}\".format(x)\n",
    "\n",
    "    def local(self, x):\n",
    "        return \"苹果的地：{}\".format(x)\n",
    "\n",
    "\n",
    "class Orange(Fruit):\n",
    "    def color(self, x):\n",
    "        return \"颜色：{}\".format(x)\n",
    "\n",
    "    def local(self, x):\n",
    "        return \"橙子的地：{}\".format(x)\n",
    "\n",
    "\n",
    "apple = Apple()\n",
    "print(apple.food_class)\n",
    "print(apple.price(100)+\"元/斤\")\n",
    "print(apple.local(\"Chinese\"+'山西'))\n"
   ]
  },
  {
   "cell_type": "code",
   "execution_count": null,
   "metadata": {},
   "outputs": [],
   "source": [
    "class Fruit:\n",
    "    food_class = \"水源\"\n",
    "\n",
    "    def __int__(self, food_class):  # food_class 未知数\n",
    "        self.food_class = food_class\n",
    "\n",
    "    def price(self, x):\n",
    "        return \"水果的价格为：{}\".format(x)\n",
    "\n",
    "    def size(self, x):\n",
    "        return \"水果的大小：{}\".format(x)\n",
    "\n",
    "x = Fruit()"
   ]
  },
  {
   "cell_type": "code",
   "execution_count": 3,
   "metadata": {},
   "outputs": [],
   "source": [
    "class Potato(Fruit):\n",
    "    food_class = \"燃料\"\n",
    "    def color(self,x):\n",
    "        print(\"颜色：\",x)\n",
    "    def local(self,x):\n",
    "        print(\"橙子的舱底：\",x)\n"
   ]
  },
  {
   "cell_type": "code",
   "execution_count": 5,
   "metadata": {},
   "outputs": [
    {
     "name": "stdout",
     "output_type": "stream",
     "text": [
      "燃料\n"
     ]
    }
   ],
   "source": [
    "potato = Potato()\n",
    "print(potato.food_class)"
   ]
  },
  {
   "cell_type": "code",
   "execution_count": null,
   "metadata": {},
   "outputs": [],
   "source": [
    "class Potato(Fruit):\n",
    "    food_class = \"燃料\"\n",
    "    def __int__(self, food_class=food_class):#初始化，父子进程的先后\n",
    "        self.food_class = food_class\n",
    "    def color(self,x):\n",
    "        print(\"颜色：\",x)\n",
    "    def local(self,x):\n",
    "        print(\"橙子的舱底：\",x)"
   ]
  },
  {
   "cell_type": "code",
   "execution_count": null,
   "metadata": {},
   "outputs": [],
   "source": [
    "potato = Potato()\n",
    "print(potato.food_class)\n"
   ]
  },
  {
   "cell_type": "code",
   "execution_count": null,
   "metadata": {},
   "outputs": [],
   "source": []
  }
 ],
 "metadata": {
  "interpreter": {
   "hash": "041f28ff36a992f0ce1e1d01f24835557524961c1d26919529d012b4754275df"
  },
  "kernelspec": {
   "display_name": "Python 3.10.2 64-bit",
   "language": "python",
   "name": "python3"
  },
  "language_info": {
   "codemirror_mode": {
    "name": "ipython",
    "version": 3
   },
   "file_extension": ".py",
   "mimetype": "text/x-python",
   "name": "python",
   "nbconvert_exporter": "python",
   "pygments_lexer": "ipython3",
   "version": "3.10.4"
  },
  "orig_nbformat": 4
 },
 "nbformat": 4,
 "nbformat_minor": 2
}
