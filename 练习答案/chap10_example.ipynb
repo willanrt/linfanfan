{
 "cells": [
  {
   "cell_type": "markdown",
   "id": "marked-membrane",
   "metadata": {},
   "source": [
    "<font size=4 color=\"red\">一个简单类的编写</font>"
   ]
  },
  {
   "cell_type": "code",
   "execution_count": 7,
   "id": "embedded-fields",
   "metadata": {},
   "outputs": [],
   "source": [
    "x = 1\n",
    "y = 2\n",
    "class GoodCal:\n",
    "    name = \"yy zhou\"\n",
    "    price = 10000\n",
    "    def __init__(self,price = price):\n",
    "        self.price = price\n",
    "    def plus(self,x,y):\n",
    "        return x+y+self.price\n",
    "    def times(self,x,y):\n",
    "        return x*y\n",
    "    def all_cal(self,x,y):\n",
    "        return self.plus(x,y)/self.times(x,y)"
   ]
  },
  {
   "cell_type": "code",
   "execution_count": 8,
   "id": "choice-mercy",
   "metadata": {},
   "outputs": [
    {
     "name": "stdout",
     "output_type": "stream",
     "text": [
      "10003\n"
     ]
    }
   ],
   "source": [
    "func = GoodCal()\n",
    "print(func.plus(1,2))"
   ]
  },
  {
   "cell_type": "code",
   "execution_count": 9,
   "id": "dramatic-evening",
   "metadata": {},
   "outputs": [
    {
     "name": "stdout",
     "output_type": "stream",
     "text": [
      "10000\n"
     ]
    }
   ],
   "source": [
    "print(func.price)"
   ]
  },
  {
   "cell_type": "markdown",
   "id": "smaller-textbook",
   "metadata": {},
   "source": [
    "<font size=4 color=\"red\">类需要对属性进行保护在新的属性前加上__</font>"
   ]
  },
  {
   "cell_type": "code",
   "execution_count": 11,
   "id": "enormous-distribution",
   "metadata": {},
   "outputs": [
    {
     "name": "stdout",
     "output_type": "stream",
     "text": [
      "2003\n"
     ]
    }
   ],
   "source": [
    "func = GoodCal(2000)\n",
    "print(func.plus(1,2))"
   ]
  },
  {
   "cell_type": "code",
   "execution_count": 3,
   "id": "innovative-score",
   "metadata": {},
   "outputs": [
    {
     "name": "stdout",
     "output_type": "stream",
     "text": [
      "10023\n"
     ]
    },
    {
     "ename": "AttributeError",
     "evalue": "'GoodCal' object has no attribute '__price'",
     "output_type": "error",
     "traceback": [
      "\u001b[1;31m---------------------------------------------------------------------------\u001b[0m",
      "\u001b[1;31mAttributeError\u001b[0m                            Traceback (most recent call last)",
      "\u001b[1;32m<ipython-input-3-fbd3adc634b9>\u001b[0m in \u001b[0;36m<module>\u001b[1;34m\u001b[0m\n\u001b[0;32m     14\u001b[0m \u001b[0mfunc\u001b[0m \u001b[1;33m=\u001b[0m \u001b[0mGoodCal\u001b[0m\u001b[1;33m(\u001b[0m\u001b[1;33m)\u001b[0m\u001b[1;33m\u001b[0m\u001b[0m\n\u001b[0;32m     15\u001b[0m \u001b[0mprint\u001b[0m\u001b[1;33m(\u001b[0m\u001b[0mfunc\u001b[0m\u001b[1;33m.\u001b[0m\u001b[0mplus\u001b[0m\u001b[1;33m(\u001b[0m\u001b[1;36m1\u001b[0m\u001b[1;33m,\u001b[0m\u001b[1;36m2\u001b[0m\u001b[1;33m)\u001b[0m\u001b[1;33m)\u001b[0m\u001b[1;33m\u001b[0m\u001b[0m\n\u001b[1;32m---> 16\u001b[1;33m \u001b[0mprint\u001b[0m\u001b[1;33m(\u001b[0m\u001b[0mfunc\u001b[0m\u001b[1;33m.\u001b[0m\u001b[0m__price\u001b[0m\u001b[1;33m)\u001b[0m\u001b[1;33m\u001b[0m\u001b[0m\n\u001b[0m",
      "\u001b[1;31mAttributeError\u001b[0m: 'GoodCal' object has no attribute '__price'"
     ]
    }
   ],
   "source": [
    "x = 1\n",
    "y = 2\n",
    "class GoodCal:\n",
    "    name = \"yy zhou\"\n",
    "    price = 10000\n",
    "    def __init__(self,price = price):\n",
    "        self.__price = price +20\n",
    "    def plus(self,x,y):\n",
    "        return x+y+self.__price\n",
    "    def times(self,x,y):\n",
    "        return x*y\n",
    "    def all_cal(self,x,y):\n",
    "        return self.plus(x,y)/self.times(x,y)\n",
    "func = GoodCal()\n",
    "print(func.plus(1,2))\n",
    "print(func.__price)"
   ]
  },
  {
   "cell_type": "code",
   "execution_count": 50,
   "id": "welsh-cincinnati",
   "metadata": {},
   "outputs": [],
   "source": [
    "class GoodCal:\n",
    "    name = \"yy zhou\"\n",
    "    price = 10000\n",
    "    def __init__(self,price = price):\n",
    "        self.__price = price + 100\n",
    "    def plus(self,x,y):\n",
    "        return x+y+self.__price\n",
    "    def times(self,x,y):\n",
    "        return x*y\n",
    "    def all_cal(self,x,y):\n",
    "        return self.plus(x,y)/self.times(x,y)"
   ]
  },
  {
   "cell_type": "code",
   "execution_count": 51,
   "id": "subjective-quilt",
   "metadata": {},
   "outputs": [
    {
     "name": "stdout",
     "output_type": "stream",
     "text": [
      "1051.5\n"
     ]
    }
   ],
   "source": [
    "func = GoodCal(2000)\n",
    "print(func.all_cal(1,2))"
   ]
  },
  {
   "cell_type": "markdown",
   "id": "auburn-dining",
   "metadata": {},
   "source": [
    "<font size=4 color=\"red\">父类与子类的继承</font>"
   ]
  },
  {
   "cell_type": "code",
   "execution_count": 34,
   "id": "patient-comment",
   "metadata": {},
   "outputs": [
    {
     "name": "stdout",
     "output_type": "stream",
     "text": [
      "水果的颜色为: red\n",
      "None\n",
      "苹果的价格为: 20元/斤\n",
      "None\n",
      "食物\n"
     ]
    }
   ],
   "source": [
    "class Fruit:\n",
    "    class_fruit = \"食物\"\n",
    "    def __init__(self,class_fruit = class_fruit):\n",
    "        self.class_fruit = class_fruit\n",
    "    def color(self,color):\n",
    "        print(\"水果的颜色为:\",color)\n",
    "    def size(self,size):\n",
    "        print(\"水果的大小为：\",size)\n",
    "\n",
    "class Apple(Fruit):\n",
    "    def price(self,money):\n",
    "        print(\"苹果的价格为:\",money)\n",
    "    def loacl(self,loc):\n",
    "        print(\"苹果的产地为：\",loc)\n",
    "\n",
    "class orange(Fruit):\n",
    "    def price(self,money):\n",
    "        print(\"苹果的价格为:\",money)\n",
    "    def loacl(self,loc):\n",
    "        print(\"苹果的产地为：\",loc)\n",
    "\n",
    "apple = Apple()\n",
    "print(apple.color(\"red\"))\n",
    "print(apple.price(\"20元/斤\"))\n",
    "print(apple.class_fruit)"
   ]
  },
  {
   "cell_type": "code",
   "execution_count": 45,
   "id": "annoying-unemployment",
   "metadata": {},
   "outputs": [
    {
     "name": "stdout",
     "output_type": "stream",
     "text": [
      "水果的颜色为: red\n",
      "None\n",
      "马铃薯的价格为: 20元/斤\n",
      "None\n",
      "食物\n"
     ]
    }
   ],
   "source": [
    "class Potato(Fruit):\n",
    "    class_fruit = \"燃料\"\n",
    "    #def __init__(self,class_fruit = class_fruit):\n",
    "    #    self.class_fruit = class_fruit\n",
    "    def price(self,money):\n",
    "        print(\"马铃薯的价格为:\",money)\n",
    "    def loacl(self,loc):\n",
    "        print(\"马铃薯的产地为：\",loc)\n",
    "\n",
    "potato = Potato()\n",
    "print(potato.color(\"red\"))\n",
    "print(potato.price(\"20元/斤\"))\n",
    "print(potato.class_fruit)"
   ]
  },
  {
   "cell_type": "code",
   "execution_count": 24,
   "id": "worthy-concentration",
   "metadata": {},
   "outputs": [],
   "source": [
    "class Fruit:\n",
    "    food_class = \"水果\"\n",
    "    def __init__(self,food_class = food_class):\n",
    "        self.food_class = food_class\n",
    "    def price(self,x):\n",
    "        return \"水果的价格为:{}\".format(x)\n",
    "    def size(self,x):\n",
    "        print(\"水果的大小：\",x)\n",
    "class Apple(Fruit):\n",
    "    def color(self,x):\n",
    "        print(\"颜色：\",x)\n",
    "    def local(self,x):\n",
    "        print(\"苹果的产地：\",x)\n",
    "class Orange(Fruit):\n",
    "    def color(self,x):\n",
    "        print(\"颜色：\",x)\n",
    "    def local(self,x):\n",
    "        print(\"橙子的产地：\",x)"
   ]
  },
  {
   "cell_type": "code",
   "execution_count": 15,
   "id": "differential-refund",
   "metadata": {},
   "outputs": [
    {
     "name": "stdout",
     "output_type": "stream",
     "text": [
      "水果\n",
      "水果的价格为:100元/斤\n",
      "苹果的产地： 山西\n",
      "None\n"
     ]
    }
   ],
   "source": [
    "apple = Apple()\n",
    "print(apple.food_class)\n",
    "print(apple.price(100)+\"元/斤\")\n",
    "print(apple.local(\"山西\"))"
   ]
  },
  {
   "cell_type": "code",
   "execution_count": 8,
   "id": "enclosed-spanking",
   "metadata": {},
   "outputs": [
    {
     "name": "stdout",
     "output_type": "stream",
     "text": [
      "水果\n",
      "水果的价格为： 100\n",
      "None\n",
      "橙子的产地： 山西\n",
      "None\n"
     ]
    }
   ],
   "source": [
    "orange = Orange()\n",
    "print(orange.food_class)\n",
    "print(orange.price(100))\n",
    "print(orange.local(\"山西\"))"
   ]
  },
  {
   "cell_type": "code",
   "execution_count": null,
   "id": "confirmed-perry",
   "metadata": {},
   "outputs": [],
   "source": []
  },
  {
   "cell_type": "code",
   "execution_count": null,
   "id": "specialized-tiffany",
   "metadata": {},
   "outputs": [],
   "source": []
  },
  {
   "cell_type": "code",
   "execution_count": 27,
   "id": "exposed-family",
   "metadata": {},
   "outputs": [],
   "source": []
  },
  {
   "cell_type": "code",
   "execution_count": 28,
   "id": "proof-sphere",
   "metadata": {},
   "outputs": [
    {
     "name": "stdout",
     "output_type": "stream",
     "text": [
      "燃料\n"
     ]
    }
   ],
   "source": []
  },
  {
   "cell_type": "code",
   "execution_count": null,
   "id": "atomic-drinking",
   "metadata": {},
   "outputs": [],
   "source": []
  }
 ],
 "metadata": {
  "kernelspec": {
   "display_name": "Python 3",
   "language": "python",
   "name": "python3"
  },
  "language_info": {
   "codemirror_mode": {
    "name": "ipython",
    "version": 3
   },
   "file_extension": ".py",
   "mimetype": "text/x-python",
   "name": "python",
   "nbconvert_exporter": "python",
   "pygments_lexer": "ipython3",
   "version": "3.7.0"
  }
 },
 "nbformat": 4,
 "nbformat_minor": 5
}
