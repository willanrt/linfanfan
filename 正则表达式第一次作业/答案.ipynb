{
 "cells": [
  {
   "cell_type": "markdown",
   "id": "alike-pollution",
   "metadata": {},
   "source": [
    "<font size=4 color=\"red\">a)\t可以匹配常规手机号码的规则；</font>"
   ]
  },
  {
   "cell_type": "code",
   "execution_count": null,
   "id": "broad-sequence",
   "metadata": {},
   "outputs": [],
   "source": [
    "rules = r'(^1(3[0-9]|5[012356789]|7[1235678]|8[0-9])\\d{8}$)'\n",
    "\"\"\"\n",
    "^$\n",
    "\\b\n",
    "有同学提交ipynb的文件\n",
    "md文件报错可能是\\出现问题\n",
    "有位同学提交的是html文件\n",
    "文件打不开\n",
    "交错作业了\n",
    "\"\"\"\n"
   ]
  },
  {
   "cell_type": "markdown",
   "id": "comparative-impact",
   "metadata": {},
   "source": [
    "<font size=4 color=\"red\">b)\t可以匹配身份证号的规则；</font>"
   ]
  },
  {
   "cell_type": "code",
   "execution_count": 27,
   "id": "purple-telescope",
   "metadata": {},
   "outputs": [
    {
     "name": "stdout",
     "output_type": "stream",
     "text": [
      "[('42900420000112102X', '20', '01', '01', '', '12', '12', '', '', '', '', '', '')]\n"
     ]
    }
   ],
   "source": [
    "# ^开头\n",
    "# [1-9] 第一位1-9中的一个      4\n",
    "# \\d{5} 五位数字           10001（前六位省市县地区）\n",
    "# (18|19|20)                19（现阶段可能取值范围18xx-20xx年）\n",
    "# \\d{2}                    91（年份）\n",
    "# ((0[1-9])|(10|11|12))     01（月份）\n",
    "# (([0-2][1-9])|10|20|30|31)01（日期）\n",
    "# \\d{3} 三位数字            123（第十七位奇数代表男，偶数代表女）\n",
    " # [0-9Xx] 0123456789Xx其中的一个 X（第十八位为校验值）\n",
    "regularExpression = \"(^[1-9]\\d{5}(18|19|20)\\d{2}((0[1-9])|(10|11|12))(([0-2][1-9])|10|20|30|31)\\d{3}[0-9Xx]$)|\" \\\n",
    "                        \"(^[1-9]\\d{5}\\d{2}((0[1-9])|(10|11|12))(([0-2][1-9])|10|20|30|31)\\d{3}$)\"\n",
    "text = \"42900420000112102X\"\n",
    "import re\n",
    "print(re.findall(regularExpression,text))"
   ]
  },
  {
   "cell_type": "markdown",
   "id": "generous-excerpt",
   "metadata": {},
   "source": [
    "<font size=4 color=\"red\">c)可以匹配类似“2022-03-02”的日期的规则；</font>"
   ]
  },
  {
   "cell_type": "code",
   "execution_count": 20,
   "id": "million-garden",
   "metadata": {},
   "outputs": [
    {
     "name": "stdout",
     "output_type": "stream",
     "text": [
      "[('03', '03', '', '31', '', '', '31')]\n"
     ]
    }
   ],
   "source": [
    "rules = r\"\\d{4}-((0[1-9])|(1[0-2]))-((0[1-9])|([12][0-9])|(3[01]))\"\n",
    "text = \"2022-03-31\"\n",
    "import re\n",
    "print(re.findall(rules,text))\n",
    "####    ((^20)\\d{2})-(0\\d{1})-(0\\d{1})\\$"
   ]
  },
  {
   "cell_type": "markdown",
   "id": "african-functionality",
   "metadata": {},
   "source": [
    "<font size=4 color=\"red\">d)\t可以匹配类似http://www.baidu.com的网站域名的规则；</font>"
   ]
  },
  {
   "cell_type": "code",
   "execution_count": 19,
   "id": "portable-watch",
   "metadata": {},
   "outputs": [
    {
     "name": "stdout",
     "output_type": "stream",
     "text": [
      "['http://www.baidu.com']\n"
     ]
    }
   ],
   "source": [
    "rules = r\"https?://w{3}\\..+\\.com\"\n",
    "text = \"http://www.baidu.com\"\n",
    "import re\n",
    "print(re.findall(rules,text))"
   ]
  },
  {
   "cell_type": "markdown",
   "id": "attempted-dayton",
   "metadata": {},
   "source": [
    "<font size=4 color=\"red\">e)\t在data.xlsx中一共有四种案件类型，分别为：停水案件、供电案件、噪音案件、交通案件，根据自己的理解可以分别针对四种案件类型编写相应的正则表达式，这些正则表达式可以对新出现案件进行分类。（提示：排除一些无用的信息。）</font>"
   ]
  },
  {
   "cell_type": "code",
   "execution_count": null,
   "id": "dying-hypothetical",
   "metadata": {},
   "outputs": [],
   "source": [
    "\"\"\"\n",
    "正则表达式写的绝对 如 '电'\n",
    "\"\"\"\n",
    "\n",
    "\"\"\"\n",
    "Pip_1 = re.compile(r'停电|电')\n",
    "Pip_2 = re.compile(r'广场舞|扰人清梦|噪音')#match()\n",
    "Pip_3 = re.compile(r'堵车|出行出现不便')\n",
    "Pip_4 = re.compile(r'停水|水|漏水')\n",
    "\"\"\"\n",
    "\n",
    "\n",
    "\"\"\"\n",
    "停水案件：(.+)(停水|供水|漏水|没有水)(.+)\n",
    "供电案件：(.+)(供电|停电)(.+)\n",
    "噪音案件：(.+)(广场舞|扰民|噪音)(.+)\n",
    "交通案件：(.+)堵车(.+)\n",
    "\"\"\"\n",
    "\"\"\"\n",
    "^\\w+供电\\w+$\n",
    "^\\w+交通\\w+$\n",
    "^\\w+噪音\\w+$\n",
    "\"\"\"\n",
    "\n",
    "   \n",
    "\n",
    "\"\"\"\n",
    "停水案件 ((停水|供水))|((供水管道|水箱|水管)[\\s\\S](破裂|坏了|漏水))|((消防栓)(\\s\\S)(损毁))\n",
    "供电案件 ((停电|供电))|((电线)[\\s\\S](破损|问题))\n",
    "噪音案件 ((噪音|广场舞))|((噪声)[\\s\\S](扰民))\n",
    "交通案件 ((堵车))|((出行)[\\s\\S](不便))\n",
    "\"\"\""
   ]
  }
 ],
 "metadata": {
  "kernelspec": {
   "display_name": "Python 3",
   "language": "python",
   "name": "python3"
  },
  "language_info": {
   "codemirror_mode": {
    "name": "ipython",
    "version": 3
   },
   "file_extension": ".py",
   "mimetype": "text/x-python",
   "name": "python",
   "nbconvert_exporter": "python",
   "pygments_lexer": "ipython3",
   "version": "3.7.0"
  }
 },
 "nbformat": 4,
 "nbformat_minor": 5
}
