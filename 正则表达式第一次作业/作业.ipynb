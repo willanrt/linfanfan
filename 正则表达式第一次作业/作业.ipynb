{
 "cells": [
  {
   "cell_type": "markdown",
   "metadata": {},
   "source": [
    "匹配常规手机号码的规则"
   ]
  },
  {
   "cell_type": "code",
   "execution_count": 38,
   "metadata": {},
   "outputs": [
    {
     "name": "stdout",
     "output_type": "stream",
     "text": [
      "匹配失败\n"
     ]
    }
   ],
   "source": [
    "import re\n",
    "def main():\n",
    "    haoma = input(\"请输入手机号:\")\n",
    "    match = re.match(r\"^1[3456789]\\d{9}$\", haoma)  # /d 表示匹配数字 ，{9}表示匹配9个数字 ，\n",
    "    if match:\n",
    "        print(\"匹配成功\")\n",
    "    else:\n",
    "        print(\"匹配失败\")\n",
    "\n",
    "if __name__ == \"__main__\":\n",
    "    main()\n"
   ]
  },
  {
   "cell_type": "code",
   "execution_count": 128,
   "metadata": {},
   "outputs": [
    {
     "data": {
      "text/plain": [
       "['http://www.baidu.com']"
      ]
     },
     "execution_count": 128,
     "metadata": {},
     "output_type": "execute_result"
    }
   ],
   "source": [
    "import re\n",
    "str = \"http://www.baidu.com\"\n",
    "regular = re.compile(r'^[https://|http://][^\\\\]*[com|cn|\\d*]')\n",
    "re.findall(regular, str)"
   ]
  },
  {
   "cell_type": "code",
   "execution_count": 105,
   "metadata": {},
   "outputs": [
    {
     "data": {
      "text/plain": [
       "['2020-03-04']"
      ]
     },
     "execution_count": 105,
     "metadata": {},
     "output_type": "execute_result"
    }
   ],
   "source": [
    "import re\n",
    "riqi = \"2020-03-04\"\n",
    "match = r'^[12]\\d\\d\\d?-[01][0-9]-[012][0-9]'\n",
    "re.findall(match,riqi)"
   ]
  },
  {
   "cell_type": "code",
   "execution_count": 131,
   "metadata": {},
   "outputs": [
    {
     "data": {
      "text/plain": [
       "[('', '441521200210246913', '', '')]"
      ]
     },
     "execution_count": 131,
     "metadata": {},
     "output_type": "execute_result"
    }
   ],
   "source": [
    "import re\n",
    "idcard = input(\"18位身份证号码\")\n",
    "match = r'(^\\d{15}$)|(^\\d{18}$)|(^\\d{17})(\\d|X|x)$'\n",
    "re.findall(match,idcard)\n"
   ]
  },
  {
   "cell_type": "code",
   "execution_count": 1,
   "metadata": {},
   "outputs": [
    {
     "name": "stdout",
     "output_type": "stream",
     "text": [
      "all values:\n",
      "[['我住在森林小区，今天早上停水了，请问什么时候供水恢复。' '停水案件']\n",
      " ['我家小区的供水管道坏了，请问什么时候可以恢复。' '停水案件']\n",
      " ['现在是2020年10月8日，教师2期宿舍出现停电现象，请问什么时候可以恢复。' '供电案件']\n",
      " ['小区供电线路出现问题，请问供电公司什么时候可以修复。' '供电案件']\n",
      " ['我反映：区慧济一路18号至20号一片，从早上开始停水，向供水部门反映一直没有解决，请政府协调处理。' '停水案件']\n",
      " ['我反映：黄石路安静村1号一带从昨天下午5点钟一直停水到现在，请政府协调处理' '停水案件']\n",
      " ['我反映：马鹦路姚湾车站处，有供水管道破裂，水流量很大，请政府协调处理' '停水案件']\n",
      " ['我反映：我是江岸区高雄小区14栋的居民，我们这栋楼8楼的水箱一直在漏水，请政府协调处理' '停水案件']\n",
      " ['我反映：胭脂路花园珊小区停水两天，请政府协调处理' '停水案件']\n",
      " ['我反映：馨悦小区的自来水管进水管漏水，请政府协调处理' '停水案件']\n",
      " ['我反映：小区3楼以上都没有水，导致无法用水，请政府协调处理' '停水案件']\n",
      " ['我反应：常青花园停电，请政府协调处理' '供电案件']\n",
      " ['门口消防栓小盖缺损，供水公司没有人处理，请问怎么办' '停水案件']\n",
      " ['我反映：小区正在施工，噪音扰民严重，请政府协调处理' '噪音案件']\n",
      " ['我家住在公路旁边，早上的时候很多车辆经过，扰人清梦，政府需要处理啊！' '噪音案件']\n",
      " ['一到晚上的时候马路对面的广场舞就开始，这里需要管理啊！' '噪音案件']\n",
      " ['我反映：大市场经常性停电，请政府协调处理' '供电案件']\n",
      " ['我反映：堤角方向堵车，请政府协调解决' '交通案件']\n",
      " ['北京理工大学珠海学院正门口出现堵车现象，现场需要梳理。' '交通案件']\n",
      " ['我家门口的转角的马路破了，每天早上都会堵车，请问什么时候可以修理。' '交通案件']\n",
      " ['我反映：12月底，108路公交车就不经过欢乐大道了，给我们欢乐大道欢乐新城一带的居民出行造成不便，请政府核实处理' '交通案件']]\n"
     ]
    }
   ],
   "source": [
    "import pandas as pd \n",
    "df = pd.read_excel('data.xlsx')# 导入文件\n",
    "data = df.values\n",
    "print(\"all values:\\n{}\".format(data))\n"
   ]
  },
  {
   "cell_type": "code",
   "execution_count": 43,
   "metadata": {},
   "outputs": [
    {
     "name": "stdout",
     "output_type": "stream",
     "text": [
      "[('', '', '', '', \"[['我住在森林小区，今天早上停水了，请问什么时候供水恢复。\", '', ''), ('', '', '', \" ['我家小区的供水管道坏了，请问什么时候可以恢复。' '停水案件']\", '', '', ''), ('', '', '', '', '', \" ['我反映：区慧济一路18号至20号一片，从早上开始停水，向供水部门反映一直没有解决，请政府协调处理。' '停水案件']\", ''), ('', '', '', '', '', '', \" ['我反映：黄石路安静村1号一带从昨天下午5点钟一直停水到现在，请政府协调处理' '停水案件']\"), ('', '', \" ['我反映：胭脂路花园珊小区停水两天，请政府协调处理' '停水案件']\", '', '', '', ''), (\" ['我反映：小区3楼以上都没有水，导致无法用水，请政府协调处理' '停水案件']\", '', '', '', '', '', '')] 停水案件\n"
     ]
    }
   ],
   "source": [
    "import re \n",
    "watercase = r'(.+没有水.+)|(供水管道坏了？)|(.+停水\\w天.+)|(.+供水.+恢复.+)|(.+供水恢复+.)|(.+\\d.+供水.+)|(.+停水到现在.+)'\n",
    "re.findall(watercase,format(data))\n"
   ]
  },
  {
   "cell_type": "code",
   "execution_count": 49,
   "metadata": {},
   "outputs": [
    {
     "data": {
      "text/plain": [
       "[(\" ['现在是2020年10月8日，教师2期宿舍出现停电现象，请问什么时候可以恢复。' '供电\", ''),\n",
       " (\" ['小区供电线路出现问题，请问供电公司什么时候可以修复。' '供电\", ''),\n",
       " (\" ['我反应：常青花园停电，请政府协调处理' '供电\", ''),\n",
       " (\" ['我反映：大市场经常性停电，请政府协调处理' '供电\", '')]"
      ]
     },
     "execution_count": 49,
     "metadata": {},
     "output_type": "execute_result"
    }
   ],
   "source": [
    "import re \n",
    "electcase = r'(.+电|停电|供电.+)|(供电案件)'\n",
    "re.findall(electcase,format(data))"
   ]
  },
  {
   "cell_type": "code",
   "execution_count": 53,
   "metadata": {},
   "outputs": [
    {
     "data": {
      "text/plain": [
       "[(\" ['我反映：小区正在施工，噪音扰民严重，请政府协调处理' '噪音案件']\", ''),\n",
       " (\" ['我家住在公路旁边，早上的时候很多车辆经过，扰人清梦，政府需要处理啊！' '噪音案件']\", ''),\n",
       " (\" ['一到晚上的时候马路对面的广场舞就开始，这里需要管理啊！' '噪音案件']\", '')]"
      ]
     },
     "execution_count": 53,
     "metadata": {},
     "output_type": "execute_result"
    }
   ],
   "source": [
    "import re \n",
    "noisecase = r'(.+扰.+|.+广场舞.+)|(噪音案件)'\n",
    "re.findall( noisecase,format(data))"
   ]
  },
  {
   "cell_type": "code",
   "execution_count": 57,
   "metadata": {},
   "outputs": [
    {
     "data": {
      "text/plain": [
       "[(\" ['我反映：堤角方向堵车，请政府协调解决' '交通案件']\", '', ''),\n",
       " (\" ['北京理工大学珠海学院正门口出现堵车现象，现场需要梳理。' '交通案件']\", '', ''),\n",
       " (\" ['我家门口的转角的马路破了，每天早上都会堵车，请问什么时候可以修理。' '交通案件']\", '', ''),\n",
       " ('',\n",
       "  '',\n",
       "  \" ['我反映：12月底，108路公交车就不经过欢乐大道了，给我们欢乐大道欢乐新城一带的居民出行造成不便，请政府核实处理' '交通案件']]\")]"
      ]
     },
     "execution_count": 57,
     "metadata": {},
     "output_type": "execute_result"
    }
   ],
   "source": [
    "import re \n",
    "trafficcase = r'(.+堵车.+|.+出行不便.+)|(交通案件)|(.+公交车.+)'\n",
    "re.findall(trafficcase,format(data))"
   ]
  },
  {
   "cell_type": "code",
   "execution_count": null,
   "metadata": {},
   "outputs": [],
   "source": []
  }
 ],
 "metadata": {
  "interpreter": {
   "hash": "041f28ff36a992f0ce1e1d01f24835557524961c1d26919529d012b4754275df"
  },
  "kernelspec": {
   "display_name": "Python 3.10.2 64-bit",
   "language": "python",
   "name": "python3"
  },
  "language_info": {
   "codemirror_mode": {
    "name": "ipython",
    "version": 3
   },
   "file_extension": ".py",
   "mimetype": "text/x-python",
   "name": "python",
   "nbconvert_exporter": "python",
   "pygments_lexer": "ipython3",
   "version": "3.10.2"
  },
  "orig_nbformat": 4
 },
 "nbformat": 4,
 "nbformat_minor": 2
}
