{
 "cells": [
  {
   "cell_type": "markdown",
   "id": "smooth-extra",
   "metadata": {},
   "source": [
    "<font size=5 color=\"red\">函数练习<font>"
   ]
  },
  {
   "cell_type": "markdown",
   "id": "quarterly-pledge",
   "metadata": {},
   "source": [
    "<font size=4 color=\"red\">安装名称叫“jieba”模块<font>"
   ]
  },
  {
   "cell_type": "code",
   "execution_count": 1,
   "id": "concerned-despite",
   "metadata": {},
   "outputs": [
    {
     "name": "stdout",
     "output_type": "stream",
     "text": [
      "Note: you may need to restart the kernel to use updated packages.\n"
     ]
    },
    {
     "name": "stderr",
     "output_type": "stream",
     "text": [
      "ERROR: unknown command \"/conda\"\n",
      "\n"
     ]
    }
   ],
   "source": [
    "pip/conda install jieba jieba"
   ]
  },
  {
   "cell_type": "markdown",
   "id": "limited-junction",
   "metadata": {},
   "source": [
    "<font size=4 color=\"red\">引用jieba模块<font>"
   ]
  },
  {
   "cell_type": "code",
   "execution_count": 10,
   "id": "static-convention",
   "metadata": {},
   "outputs": [],
   "source": [
    "import jieba"
   ]
  },
  {
   "cell_type": "markdown",
   "id": "found-phoenix",
   "metadata": {},
   "source": [
    "<font size=4 color=\"red\">使用jieba库中的lcut函数，函数输入为“衬衫的价格是9磅15便士！”并返回结果<font>"
   ]
  },
  {
   "cell_type": "code",
   "execution_count": 11,
   "id": "worth-postcard",
   "metadata": {},
   "outputs": [
    {
     "name": "stderr",
     "output_type": "stream",
     "text": [
      "Building prefix dict from the default dictionary ...\n",
      "Loading model from cache C:\\Users\\zyy\\AppData\\Local\\Temp\\jieba.cache\n",
      "Loading model cost 0.579 seconds.\n",
      "Prefix dict has been built successfully.\n"
     ]
    },
    {
     "data": {
      "text/plain": [
       "['衬衫', '的', '价格', '是', '9', '磅', '15', '便士', '！']"
      ]
     },
     "execution_count": 11,
     "metadata": {},
     "output_type": "execute_result"
    }
   ],
   "source": [
    "jieba.lcut(\"衬衫的价格是9磅15便士！\")"
   ]
  },
  {
   "cell_type": "markdown",
   "id": "intermediate-church",
   "metadata": {},
   "source": [
    "<font size=5 color=\"red\">循环练习<font>"
   ]
  },
  {
   "cell_type": "markdown",
   "id": "crude-probe",
   "metadata": {},
   "source": [
    "<font size=4 color=\"red\">现有1,2,3,4四个数值，这四个数值可以组合成多少个互不相同且无重复数值的三位数？<font>"
   ]
  },
  {
   "cell_type": "code",
   "execution_count": null,
   "id": "foster-valentine",
   "metadata": {},
   "outputs": [],
   "source": [
    "total = 0\n",
    "for i in range(1,5):\n",
    "    for j in range(1,5):\n",
    "        for q in range(1,5):\n",
    "            if ((i !=j) and (i != q) and (j!=q)):\n",
    "                print(int(str(i)+str(j)+str(q)))\n",
    "                total += 1\n",
    "print(total)"
   ]
  },
  {
   "cell_type": "markdown",
   "id": "blond-garlic",
   "metadata": {},
   "source": [
    "<font size=5 color=\"red\">函数练习<font>"
   ]
  },
  {
   "cell_type": "markdown",
   "id": "deadly-following",
   "metadata": {},
   "source": [
    "<font size=4 color=\"red\">编写函数，求1+2+3+…N的和，输入为N返回值求和结果<font>"
   ]
  },
  {
   "cell_type": "code",
   "execution_count": 12,
   "id": "falling-luther",
   "metadata": {},
   "outputs": [],
   "source": [
    "def f(N):\n",
    "    result = 0\n",
    "    for i in range(N+1):\n",
    "        result += i\n",
    "    return result"
   ]
  },
  {
   "cell_type": "markdown",
   "id": "above-population",
   "metadata": {},
   "source": [
    "<font size=4 color=\"red\">根据上面编程的函数，计算当N=100的值？<font>"
   ]
  },
  {
   "cell_type": "code",
   "execution_count": 13,
   "id": "lucky-recruitment",
   "metadata": {},
   "outputs": [
    {
     "name": "stdout",
     "output_type": "stream",
     "text": [
      "5050\n"
     ]
    }
   ],
   "source": [
    "print(f(100))"
   ]
  },
  {
   "cell_type": "code",
   "execution_count": null,
   "id": "confidential-submission",
   "metadata": {},
   "outputs": [],
   "source": []
  },
  {
   "cell_type": "code",
   "execution_count": null,
   "id": "final-salem",
   "metadata": {},
   "outputs": [],
   "source": []
  }
 ],
 "metadata": {
  "kernelspec": {
   "display_name": "Python 3",
   "language": "python",
   "name": "python3"
  },
  "language_info": {
   "codemirror_mode": {
    "name": "ipython",
    "version": 3
   },
   "file_extension": ".py",
   "mimetype": "text/x-python",
   "name": "python",
   "nbconvert_exporter": "python",
   "pygments_lexer": "ipython3",
   "version": "3.10.2"
  }
 },
 "nbformat": 4,
 "nbformat_minor": 5
}
