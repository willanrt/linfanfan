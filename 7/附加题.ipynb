{
 "cells": [
  {
   "cell_type": "code",
   "execution_count": 1,
   "metadata": {},
   "outputs": [],
   "source": [
    "import random\n"
   ]
  },
  {
   "cell_type": "code",
   "execution_count": 2,
   "metadata": {},
   "outputs": [],
   "source": [
    "def show(num):\n",
    "    if num == 0:\n",
    "        robot = \"剪刀\"\n",
    "    elif num == 1:\n",
    "        robot = \"石头\"\n",
    "    else:\n",
    "        robot = \"布\"\n",
    "    return robot\n"
   ]
  },
  {
   "cell_type": "code",
   "execution_count": 8,
   "metadata": {},
   "outputs": [
    {
     "name": "stdout",
     "output_type": "stream",
     "text": [
      "玩家出布,机器人出剪刀\n",
      "机器人胜利\n",
      "玩家出石头,机器人出剪刀\n",
      "玩家胜利\n",
      "玩家出石头,机器人出石头\n",
      "双方平局\n",
      "玩家出剪刀,机器人出剪刀\n",
      "双方平局\n",
      "玩家出布,机器人出布\n",
      "结束游戏\n"
     ]
    }
   ],
   "source": [
    "while True:\n",
    "    try:\n",
    "        x = random.randint(0, 2)\n",
    "        people = int(input(\"请输入(剪刀:0,石头:1,布:2):\"))\n",
    "        if people > 3 or people < 0:\n",
    "            print(\"请输入正确的数字\")\n",
    "        else:\n",
    "            print(\"玩家出%s,机器人出%s\" % (show(people), show(x)))\n",
    "            if (people == 0 and x == 2) \\\n",
    "                    or (people == 1 and x == 0) \\\n",
    "                    or (people == 2 and x == 1):\n",
    "                print(\"玩家胜利\")\n",
    "            elif people == x:\n",
    "                print(\"双方平局\")\n",
    "            elif people == 3:\n",
    "                print(\"结束游戏\")\n",
    "                break\n",
    "            else:\n",
    "                print(\"机器人胜利\")\n",
    "    except ValueError:\n",
    "        print(\"请输入数字而不是字母\")\n"
   ]
  },
  {
   "cell_type": "code",
   "execution_count": null,
   "metadata": {},
   "outputs": [],
   "source": []
  }
 ],
 "metadata": {
  "interpreter": {
   "hash": "041f28ff36a992f0ce1e1d01f24835557524961c1d26919529d012b4754275df"
  },
  "kernelspec": {
   "display_name": "Python 3.10.4 64-bit",
   "language": "python",
   "name": "python3"
  },
  "language_info": {
   "codemirror_mode": {
    "name": "ipython",
    "version": 3
   },
   "file_extension": ".py",
   "mimetype": "text/x-python",
   "name": "python",
   "nbconvert_exporter": "python",
   "pygments_lexer": "ipython3",
   "version": "3.10.4"
  },
  "orig_nbformat": 4
 },
 "nbformat": 4,
 "nbformat_minor": 2
}
