{
 "cells": [
  {
   "cell_type": "code",
   "execution_count": 1,
   "metadata": {},
   "outputs": [
    {
     "name": "stdout",
     "output_type": "stream",
     "text": [
      "你出： 石头\n",
      "计算机出： 布\n",
      "你输了\n",
      "你还剩余机会 6\n",
      "0 : 1\n",
      "你出： 剪刀\n",
      "计算机出： 剪刀\n",
      "平局\n",
      "你还剩余机会 5\n",
      "0 : 1\n",
      "你出： 布\n",
      "计算机出： 剪刀\n",
      "你输了\n",
      "你还剩余机会 4\n",
      "0 : 2\n",
      "你出： 布\n",
      "计算机出： 剪刀\n",
      "你输了\n",
      "你还剩余机会 3\n",
      "0 : 3\n",
      "你出： 石头\n",
      "计算机出： 石头\n",
      "平局\n",
      "你还剩余机会 2\n",
      "0 : 3\n",
      "你出： 剪刀\n",
      "计算机出： 石头\n",
      "你输了\n",
      "你还剩余机会 1\n",
      "0 : 4\n",
      "电脑胜利\n"
     ]
    }
   ],
   "source": [
    "import random\n",
    "u = int(input())\n",
    "count = u\n",
    "o = 0\n",
    "p = 0\n",
    "while count:\n",
    " a = input(\"请出(石头/剪刀/布):\")\n",
    " b = [\"剪刀\", \"石头\", \"布\"]  # 定义赢的列表\n",
    " win_list = [[\"石头\", \"剪刀\"], [\"剪刀\", \"布\"], [\"布\", \"石头\"]]\n",
    " # 计算机随机选择出\n",
    " x = random.choice(b)\n",
    " print(\"你出：\", a)\n",
    " print(\"计算机出：\", x)\n",
    " q = \"平局\"\n",
    " w = \"恭喜，你赢了\"\n",
    " e = \"你输了\"\n",
    " if a in b:\n",
    "  count -= 1\n",
    "  if a == x:\n",
    "    print(q)\n",
    "  elif [a, x] in win_list:\n",
    "    print(w)\n",
    "    o +=1\n",
    "  else:\n",
    "    print(e)\n",
    "    p +=1\n",
    " else:\n",
    "  print(\"输入错误\")\n",
    " print(\"你还剩余机会\", count)\n",
    " print(o, \":\", p)\n",
    " if o == (u+1)/2:\n",
    "   print(\"玩家胜利\")\n",
    "   break\n",
    " elif p == (u+1)/2:\n",
    "   print(\"电脑胜利\")\n",
    "   break\n",
    "\n",
    "\n",
    "\n"
   ]
  },
  {
   "cell_type": "code",
   "execution_count": null,
   "metadata": {},
   "outputs": [],
   "source": []
  }
 ],
 "metadata": {
  "interpreter": {
   "hash": "041f28ff36a992f0ce1e1d01f24835557524961c1d26919529d012b4754275df"
  },
  "kernelspec": {
   "display_name": "Python 3.10.4 64-bit",
   "language": "python",
   "name": "python3"
  },
  "language_info": {
   "codemirror_mode": {
    "name": "ipython",
    "version": 3
   },
   "file_extension": ".py",
   "mimetype": "text/x-python",
   "name": "python",
   "nbconvert_exporter": "python",
   "pygments_lexer": "ipython3",
   "version": "3.10.4"
  },
  "orig_nbformat": 4
 },
 "nbformat": 4,
 "nbformat_minor": 2
}
