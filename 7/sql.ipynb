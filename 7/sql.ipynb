{
 "cells": [
  {
   "cell_type": "code",
   "execution_count": 1,
   "metadata": {},
   "outputs": [],
   "source": [
    "import pymysql"
   ]
  },
  {
   "cell_type": "code",
   "execution_count": 2,
   "metadata": {},
   "outputs": [],
   "source": [
    "conn = pymysql.connect(host = \"localhost\" , user = \"root\" , password = \"1024\" , \n",
    "                       db = \"作业\" , charset='utf8') ##连接"
   ]
  },
  {
   "cell_type": "code",
   "execution_count": 3,
   "metadata": {},
   "outputs": [],
   "source": [
    "cur = conn.cursor()  # 游标\n"
   ]
  },
  {
   "cell_type": "code",
   "execution_count": 27,
   "metadata": {},
   "outputs": [
    {
     "name": "stdout",
     "output_type": "stream",
     "text": [
      "()\n"
     ]
    }
   ],
   "source": [
    "##手动创建一个表格\n",
    "sql = '''CREATE TABLE `data2` (\n",
    "  `id` varchar(255) DEFAULT NULL,\n",
    "  `name` varchar(255) DEFAULT NULL,\n",
    "  `sex` varchar(255) DEFAULT NULL,\n",
    "  `birth` varchar(255) DEFAULT NULL,\n",
    "  `department` varchar(255) DEFAULT NULL,\n",
    "  `address` varchar(255) DEFAULT NULL\n",
    ") ENGINE = InnoDB DEFAULT \n",
    "CHARSET = utf8mb4 \n",
    "COLLATE = utf8mb4_0900_ai_ci;'''\n",
    "cur.execute(sql)\n",
    "result1 = cur.fetchall()\n",
    "print(result1)\n"
   ]
  },
  {
   "cell_type": "code",
   "execution_count": 28,
   "metadata": {},
   "outputs": [],
   "source": [
    "sql = '''INSERT INTO data2 (id,name,sex,birth,department,address) VALUES (901,'张老大','男',1985,'计算机系','北京市海淀区')\n",
    "'''\n",
    "sql1 = '''INSERT INTO data2(id, name, sex, birth, department, address) VALUES(902, '张老二', '男', 1986, '中文系', '北京市昌平区')'''\n",
    "sql2 = '''INSERT INTO data2(id, name, sex, birth, department, address) VALUES(903, '张三', '女', 1990, '中文系', '湖南省永州市')'''\n",
    "sql3 = '''INSERT INTO data2(id, name, sex, birth, department, address) VALUES(904, '李四', '男', 1990, '英语系', '辽宁省阜新市')'''\n",
    "sql4 = '''INSERT INTO data2(id, name, sex, birth, department, address) VALUES(905, '王五', '女', 1991, '英语系', '福建省厦门市')'''\n",
    "sql5 = '''INSERT INTO data2(id, name, sex, birth, department, address) VALUES(906, '王六', '男', 1988, '计算机系', '湖南省衡阳市')'''\n",
    "\n"
   ]
  },
  {
   "cell_type": "code",
   "execution_count": 29,
   "metadata": {},
   "outputs": [
    {
     "data": {
      "text/plain": [
       "1"
      ]
     },
     "execution_count": 29,
     "metadata": {},
     "output_type": "execute_result"
    }
   ],
   "source": [
    "cur.execute(sql)\n",
    "cur.execute(sql1)\n",
    "cur.execute(sql2)\n",
    "cur.execute(sql3)\n",
    "cur.execute(sql4)\n",
    "cur.execute(sql5)\n"
   ]
  },
  {
   "cell_type": "code",
   "execution_count": null,
   "metadata": {},
   "outputs": [],
   "source": [
    "conn.commit()\n"
   ]
  },
  {
   "cell_type": "code",
   "execution_count": 6,
   "metadata": {},
   "outputs": [
    {
     "name": "stdout",
     "output_type": "stream",
     "text": [
      "(('901', '张老大', '男', '1985', '计算机系', '北京市海淀区'), ('902', '张老二', '男', '1986', '中文系', '北京市昌平区'), ('903', '张三', '女', '1990', '中文系', '湖南省永州市'), ('904', '李四', '男', '1990', '英语系', '辽宁省阜新市'), ('905', '王五', '女', '1991', '英语系', '福建省厦门市'), ('906', '王六', '男', '1988', '计算机系', '湖南省衡阳市'))\n"
     ]
    }
   ],
   "source": [
    "sql = \"select * from data2\"\n",
    "cur.execute(sql)\n",
    "result2 = cur.fetchall()\n",
    "print(result2)"
   ]
  },
  {
   "cell_type": "code",
   "execution_count": 7,
   "metadata": {},
   "outputs": [],
   "source": [
    "cur.close()\n",
    "conn.close()\n"
   ]
  },
  {
   "cell_type": "code",
   "execution_count": null,
   "metadata": {},
   "outputs": [],
   "source": []
  }
 ],
 "metadata": {
  "interpreter": {
   "hash": "041f28ff36a992f0ce1e1d01f24835557524961c1d26919529d012b4754275df"
  },
  "kernelspec": {
   "display_name": "Python 3.10.4 64-bit",
   "language": "python",
   "name": "python3"
  },
  "language_info": {
   "codemirror_mode": {
    "name": "ipython",
    "version": 3
   },
   "file_extension": ".py",
   "mimetype": "text/x-python",
   "name": "python",
   "nbconvert_exporter": "python",
   "pygments_lexer": "ipython3",
   "version": "3.10.4"
  },
  "orig_nbformat": 4
 },
 "nbformat": 4,
 "nbformat_minor": 2
}
