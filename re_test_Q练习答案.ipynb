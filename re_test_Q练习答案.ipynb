{
 "cells": [
  {
   "cell_type": "markdown",
   "id": "interested-powder",
   "metadata": {},
   "source": [
    "<font size=7 color=\"red\">正则表达式测试</font>"
   ]
  },
  {
   "cell_type": "markdown",
   "id": "extensive-novel",
   "metadata": {},
   "source": [
    "<font size=4 color=\"red\">简单的数值匹配，匹配字符串中所有数值。注意除数值外需要将“亿”和“万”一并提取</font>"
   ]
  },
  {
   "cell_type": "code",
   "execution_count": 1,
   "id": "quick-toilet",
   "metadata": {},
   "outputs": [],
   "source": [
    "num_search = \"我们公司在2019年，全年的收入是2亿元，全年职工的收入为150000，全年交税金额为：1000万希望全公司的职工再接再厉能再创辉煌。\""
   ]
  },
  {
   "cell_type": "code",
   "execution_count": 10,
   "id": "respective-worker",
   "metadata": {},
   "outputs": [
    {
     "name": "stdout",
     "output_type": "stream",
     "text": [
      "['2019', '2亿', '150000', '1000万']\n"
     ]
    }
   ],
   "source": [
    "import re\n",
    "print(re.findall(r\"\\d+[亿万]?\",num_search))"
   ]
  },
  {
   "cell_type": "code",
   "execution_count": null,
   "id": "logical-check",
   "metadata": {},
   "outputs": [],
   "source": []
  },
  {
   "cell_type": "markdown",
   "id": "voluntary-reply",
   "metadata": {},
   "source": [
    "<font size=4 color=\"red\">公司后台系统存储大量用户信息，需要从这些信息中获取每个用户的ID和电话号码，重新存储</font>"
   ]
  },
  {
   "cell_type": "code",
   "execution_count": 3,
   "id": "worst-brook",
   "metadata": {},
   "outputs": [],
   "source": [
    "information = \"\"\"\n",
    "注册用户：miss，她的电话号码为：135974043910，在本公司发表评论：XXXXXXXXXXXXXXXXXXX；\n",
    "注册用户：miss1，她的电话号码为：13597404391，在本公司发表评论：XXXXXXXXXXXXXXXXXXX；\n",
    "注册用户：mi/s2，他的电话号码为：13597404392，在本公司发表评论：XXXXXXXXXXXXXXXXXXXXXXXXXXXX；\n",
    "注册用户：mis23，她的电话号码为：13597404393，在本公司发表评论：XXXXXXXXXXXXXXXXXXXXXXXXXXXXXXXXXX；\n",
    "注册用户：misS4，它的电话号码为：13597404394，在本公司发表评论：XXXXXXXXXXXXXXXXXXXXXXXXXXXXXXXXXX；\n",
    "注册用户：m@ss5，她的电话号码为：1359740439，在本公司发表评论：XXXXXXXXXXXXXXXXXXXXXXXXXXXXXXXXXX；\n",
    "注册用户：mbss5，她的电话号码为：135974k4392，在本公司发表评论：XXXXXXXXXXXXXXXXXXXXXXXXXXXXXXXXXX；\n",
    "\"\"\""
   ]
  },
  {
   "cell_type": "code",
   "execution_count": 4,
   "id": "psychological-register",
   "metadata": {},
   "outputs": [
    {
     "name": "stdout",
     "output_type": "stream",
     "text": [
      "[('miss1', '13597404391'), ('mi/s2', '13597404392'), ('mis23', '13597404393'), ('misS4', '13597404394')]\n"
     ]
    }
   ],
   "source": [
    "import re\n",
    "x = r'注册用户：(.+)，.+电话号码为：(\\d{11})，'\n",
    "match = re.findall(x,information)\n",
    "print(match)"
   ]
  },
  {
   "cell_type": "code",
   "execution_count": null,
   "id": "fuzzy-stopping",
   "metadata": {},
   "outputs": [],
   "source": []
  },
  {
   "cell_type": "markdown",
   "id": "variable-labor",
   "metadata": {},
   "source": [
    "<font size=4 color=\"red\">news是学校对外公布的新闻的网页，根据爬虫的需要我们需要提取所有的新闻的标题和url链接。</font>"
   ]
  },
  {
   "cell_type": "code",
   "execution_count": 6,
   "id": "million-suffering",
   "metadata": {},
   "outputs": [],
   "source": [
    "##url:http://www.bitzh.edu.cn/meitiguanzhu/\n",
    "#新闻：http://www.bitzh.edu.cn/meitiguanzhu/2021-03-17/30273.html\n",
    "news = \"\"\"\n",
    " <div class=\"b_right\">\n",
    "      <div class=\"b_c\">\n",
    "      <div class=\"b_list\">    \n",
    "      <a href=\"/meitiguanzhu/2021-03-17/30273.html\" title=\"【珠海特区报】城市更美好 青年更有为\"><div>【珠海特区报】城市更美好 青年更有为</div><span>2021-03-17 08:52:33</span></a>    \n",
    "      <a href=\"https://pub-zhtb.hizh.cn/s/202103/05/AP60423a7fe4b0cf5c222e6811.html\" title=\"【珠海电视台】践行社会主义核心价值观 “广东好人”蒋梦：以公益逐梦 带动更多人参与到志愿服务中\"><div>【珠海电视台】践行社会主义核心价值观 “广东好人”蒋梦：以公益逐梦 带动更多人参与到志愿服务中</div><span>2021-03-08 09:12:56</span></a>     \n",
    "      <a href=\"http://www.crt.com.cn/news2007/News/tgjx/2021/1/2112511437449GJI4G22E4G0FI82F6.html\" title=\"【中红网】让红色基因薪火相传：一部红色话剧的故事\"><div>【中红网】让红色基因薪火相传：一部红色话剧的故事</div><span>2021-02-26 15:36:22</span></a>     \n",
    "      <a href=\"/meitiguanzhu/2021-01-28/30173.html\" title=\"【澳門導報】5G聯網高校，又一智慧研究創新中心落戶珠海\"><div>【澳門導報】5G聯網高校，又一智慧研究創新中心落戶珠海</div><span>2021-01-28 14:44:09</span></a>      \n",
    "      <a href=\"/meitiguanzhu/2021-01-26/30158.html\" title=\"【珠海特区报】5G智慧校园建设步入“快车道”\"><div>【珠海特区报】5G智慧校园建设步入“快车道”</div><span>2021-01-26 14:19:12</span></a>      \n",
    "      <a href=\"/meitiguanzhu/2021-01-21/30147.html\" title=\"【华侨报】大灣區ＩＣＴ智慧應用研究創新中心　由六方共建落戶珠海\"><div>【华侨报】大灣區ＩＣＴ智慧應用研究創新中心　由六方共建落戶珠海</div><span>2021-01-21 08:53:34</span></a>     \n",
    "      <a href=\"https://share.x3cn.com/wap/thread/view-thread/tid/1251665/share_user_id/3285712?from=groupmessage\" title=\"【香山网】珠海开启“政、校、企”合作新模式 为社会输送高质量人才！\"><div>【香山网】珠海开启“政、校、企”合作新模式 为社会输送高质量人才！</div><span>2021-01-08 11:02:04</span></a>      \n",
    "      <a href=\"https://k.sina.cn/article_7419039547_1ba358f3b00100xf5q.html?wm=13500_0055&sinawapsharesource=newsapp&vt=4\" title=\"【粤爱珠澳】“政、企、校”合作 共建“质量与标准化人才培养基地”\"><div>【粤爱珠澳】“政、企、校”合作 共建“质量与标准化人才培养基地”</div><span>2021-01-08 11:00:21</span></a>      \n",
    "      <a href=\"https://ycpai.ycwb.com/amucsite/template/#/newsDetail/110013/1398575.html?isShare=true\" title=\"【羊城晚报】政校企合作培养人才！珠海质量与标准化人才培养基地揭牌\"><div>【羊城晚报】政校企合作培养人才！珠海质量与标准化人才培养基地揭牌</div><span>2021-01-08 10:59:47</span></a>      \n",
    "      <a href=\"https://static.nfapp.southcn.com/content/202101/06/c4567874.html?colID=0&code=200&msg=%E7%99%BB%E5%BD%95%E6%88%90%E5%8A%9F&evidence=e8cbefde-5e69-4c16-8d4a-ee8c5ecf9b36&firstColID=6068&appversion=7100\" title=\"【南方日报】政校企合作培养质量与标准化专业人才，珠海这一基地今日揭牌\"><div>【南方日报】政校企合作培养质量与标准化专业人才，珠海这一基地今日揭牌</div><span>2021-01-08 10:58:57</span></a>      \n",
    "      <a href=\"/meitiguanzhu/2021-01-08/30094.html\" title=\"【珠海特区报】市市场监管局与北京理工大学珠海学院签署战略合作协议\"><div>【珠海特区报】市市场监管局与北京理工大学珠海学院签署战略合作协议</div><span>2021-01-08 10:57:48</span></a>      \n",
    "      <a href=\"https://static.nfapp.southcn.com/content/202101/04/c4555241.html?colID=85&code=200&msg=%E7%99%BB%E5%BD%95%E6%88%90%E5%8A%9F&evidence=380a65a8-91c5-49ce-b30b-b067866ec90c&appversion=7200&firstColID=85&\" title=\"【南方日报】点赞！珠海3人2集体获全国少先队优秀表彰\"><div>【南方日报】点赞！珠海3人2集体获全国少先队优秀表彰</div><span>2021-01-05 08:44:08</span></a>      \n",
    "      <a href=\"https://pub-zhtb.hizh.cn/s/202012/20/AP5fdf2d43e4b0fc0f9342f409.html?from=timeline\" title=\"【观海融媒】超精彩！航模来了！珠海这所大学上演mini飞行表演…\"><div>【观海融媒】超精彩！航模来了！珠海这所大学上演mini飞行表演…</div><span>2020-12-21 16:34:59</span></a>     \n",
    "      <a href=\"https://static.nfapp.southcn.com/content/202012/16/c4451385.html?colID=0&code=200&msg=%E7%99%BB%E5%BD%95%E6%88%90%E5%8A%9F&evidence=7e466a73-fd64-4cd8-8028-6114d08a61ce&firstColID=3829&appversion=7100\" title=\"【南方日报】你上过这些“金课”吗？广东拟认定615门省级一流本科课程\"><div>【南方日报】你上过这些“金课”吗？广东拟认定615门省级一流本科课程</div><span>2020-12-18 08:40:46</span></a>      \n",
    "      <a href=\"https://item.btime.com/41e4qmuji1p8pcpf3isdkc8ldnb\" title=\"【北京广电北京时间】北京理工大学珠海学院荣获“2020年度品牌影响力独立学院”\"><div>【北京广电北京时间】北京理工大学珠海学院荣获“2020年度品牌影响力独立学院”</div><span>2020-12-18 08:36:32</span></a>      \n",
    "      <a href=\"https://mparticle.uc.cn/article.html?uc_param_str=frdnsnpfvecpntnwprdssskt&wm_aid=3482148372284b6999156b695c47f2a3\" title=\"【UC头条】北京理工大学珠海学院荣获“2020年度品牌影响力独立学院”\"><div>【UC头条】北京理工大学珠海学院荣获“2020年度品牌影响力独立学院”</div><span>2020-12-18 08:36:03</span></a>      \n",
    "      <a href=\"https://3g.k.sohu.com/t/n503568271?serialId=d3c8f3cc2ca9a4580022a7fcffe27a96&showType=\" title=\"【搜狐新闻】北京理工大学珠海学院荣获“2020年度品牌影响力独立学院”\"><div>【搜狐新闻】北京理工大学珠海学院荣获“2020年度品牌影响力独立学院”</div><span>2020-12-18 08:35:06</span></a>      \n",
    "      <a href=\"https://m.itouchtv.cn/article/4ad84081ad91375322d91a987b9b73ed?shareId=TB06p%21zA\" title=\"【广东台触电新闻】北京理工大学珠海学院荣获“2020年度品牌影响力独立学院”\"><div>【广东台触电新闻】北京理工大学珠海学院荣获“2020年度品牌影响力独立学院”</div><span>2020-12-18 08:34:02</span></a>      \n",
    "      <a href=\"https://static.nfapp.southcn.com/content/202012/13/c4430862.html?colID=85&code=200&msg=%E7%99%BB%E5%BD%95%E6%88%90%E5%8A%9F&evidence=cb20509e-7364-437e-ac34-339d4d02348a&firstColID=85&appversion=7010&\" title=\"【南方日报】第六届港航物流发展（珠海）论坛召开\"><div>【南方日报】第六届港航物流发展（珠海）论坛召开</div><span>2020-12-14 16:51:41</span></a>      \n",
    "      <a href=\"https://ycpai.ycwb.com/amucsite/template/#/newsDetail/110013/1346557.html?isShare=true\" title=\"【羊城晚报】专家聚集珠海，探讨港航物流未来发展\"><div>【羊城晚报】专家聚集珠海，探讨港航物流未来发展</div><span>2020-12-14 16:51:24</span></a>      \n",
    "      <a href=\"/meitiguanzhu/2020-12-14/29914.html\" title=\"【珠海特区报】用好新信息技术 打造智慧港口\"><div>【珠海特区报】用好新信息技术 打造智慧港口</div><span>2020-12-14 16:42:41</span></a>     \n",
    "      <a href=\"http://my-h5news.app.xinhuanet.com/h5/video.html?articleId=ab2cbc88-20ec-43f5-b8af-eddff51e80ee&share_device_token=a62f91b1fee025d80564592e0f5015ef&share_time=1606730401830&share_type=6\" title=\"【广东电视台】北理工珠海学院京涛海纳团队连续四年获全国百强实践团队\"><div>【广东电视台】北理工珠海学院京涛海纳团队连续四年获全国百强实践团队</div><span>2020-12-02 08:55:18</span></a>     \n",
    "      <a href=\"https://zsrbapp.zsnews.cn/mobile/news/viewNews/2/557906\" title=\"【中山日报】专注家电“芯”，北京理工大学珠海学院半导体研究院落户中山\"><div>【中山日报】专注家电“芯”，北京理工大学珠海学院半导体研究院落户中山</div><span>2020-11-30 09:08:46</span></a>      \n",
    "      <a href=\"http://skype.gmw.cn/news/content_18_5524.html\" title=\"【光明网】全国百强！北理珠这个学生团队连续四年“霸榜”\"><div>【光明网】全国百强！北理珠这个学生团队连续四年“霸榜”</div><span>2020-11-30 09:08:02</span></a>      \n",
    "      <a href=\"https://m.mp.oeeee.com/a/BAAFRD000020201125383829.html?wxuid=ogVRcdPLJFqDrCAjFuMzZetOi7hA&wxsalt=101e4e\" title=\"【南方都市报】珠海这所高校连续四年“霸榜”，学生团队勇夺全国百强！\"><div>【南方都市报】珠海这所高校连续四年“霸榜”，学生团队勇夺全国百强！</div><span>2020-11-27 15:14:42</span></a>\n",
    "</div>\n",
    "\"\"\""
   ]
  },
  {
   "cell_type": "markdown",
   "id": "potential-dance",
   "metadata": {},
   "source": [
    "<font size=3 color=\"red\">获取标题</font>"
   ]
  },
  {
   "cell_type": "code",
   "execution_count": 8,
   "id": "european-concern",
   "metadata": {},
   "outputs": [
    {
     "name": "stdout",
     "output_type": "stream",
     "text": [
      "[('/meitiguanzhu/2021-03-17/30273.html', '【珠海特区报】城市更美好 青年更有为'), ('https://pub-zhtb.hizh.cn/s/202103/05/AP60423a7fe4b0cf5c222e6811.html', '【珠海电视台】践行社会主义核心价值观 “广东好人”蒋梦：以公益逐梦 带动更多人参与到志愿服务中'), ('http://www.crt.com.cn/news2007/News/tgjx/2021/1/2112511437449GJI4G22E4G0FI82F6.html', '【中红网】让红色基因薪火相传：一部红色话剧的故事'), ('/meitiguanzhu/2021-01-28/30173.html', '【澳門導報】5G聯網高校，又一智慧研究創新中心落戶珠海'), ('/meitiguanzhu/2021-01-26/30158.html', '【珠海特区报】5G智慧校园建设步入“快车道”'), ('/meitiguanzhu/2021-01-21/30147.html', '【华侨报】大灣區ＩＣＴ智慧應用研究創新中心\\u3000由六方共建落戶珠海'), ('https://share.x3cn.com/wap/thread/view-thread/tid/1251665/share_user_id/3285712?from=groupmessage', '【香山网】珠海开启“政、校、企”合作新模式 为社会输送高质量人才！'), ('https://k.sina.cn/article_7419039547_1ba358f3b00100xf5q.html?wm=13500_0055&sinawapsharesource=newsapp&vt=4', '【粤爱珠澳】“政、企、校”合作 共建“质量与标准化人才培养基地”'), ('https://ycpai.ycwb.com/amucsite/template/#/newsDetail/110013/1398575.html?isShare=true', '【羊城晚报】政校企合作培养人才！珠海质量与标准化人才培养基地揭牌'), ('https://static.nfapp.southcn.com/content/202101/06/c4567874.html?colID=0&code=200&msg=%E7%99%BB%E5%BD%95%E6%88%90%E5%8A%9F&evidence=e8cbefde-5e69-4c16-8d4a-ee8c5ecf9b36&firstColID=6068&appversion=7100', '【南方日报】政校企合作培养质量与标准化专业人才，珠海这一基地今日揭牌'), ('/meitiguanzhu/2021-01-08/30094.html', '【珠海特区报】市市场监管局与北京理工大学珠海学院签署战略合作协议'), ('https://static.nfapp.southcn.com/content/202101/04/c4555241.html?colID=85&code=200&msg=%E7%99%BB%E5%BD%95%E6%88%90%E5%8A%9F&evidence=380a65a8-91c5-49ce-b30b-b067866ec90c&appversion=7200&firstColID=85&', '【南方日报】点赞！珠海3人2集体获全国少先队优秀表彰'), ('https://pub-zhtb.hizh.cn/s/202012/20/AP5fdf2d43e4b0fc0f9342f409.html?from=timeline', '【观海融媒】超精彩！航模来了！珠海这所大学上演mini飞行表演…'), ('https://static.nfapp.southcn.com/content/202012/16/c4451385.html?colID=0&code=200&msg=%E7%99%BB%E5%BD%95%E6%88%90%E5%8A%9F&evidence=7e466a73-fd64-4cd8-8028-6114d08a61ce&firstColID=3829&appversion=7100', '【南方日报】你上过这些“金课”吗？广东拟认定615门省级一流本科课程'), ('https://item.btime.com/41e4qmuji1p8pcpf3isdkc8ldnb', '【北京广电北京时间】北京理工大学珠海学院荣获“2020年度品牌影响力独立学院”'), ('https://mparticle.uc.cn/article.html?uc_param_str=frdnsnpfvecpntnwprdssskt&wm_aid=3482148372284b6999156b695c47f2a3', '【UC头条】北京理工大学珠海学院荣获“2020年度品牌影响力独立学院”'), ('https://3g.k.sohu.com/t/n503568271?serialId=d3c8f3cc2ca9a4580022a7fcffe27a96&showType=', '【搜狐新闻】北京理工大学珠海学院荣获“2020年度品牌影响力独立学院”'), ('https://m.itouchtv.cn/article/4ad84081ad91375322d91a987b9b73ed?shareId=TB06p%21zA', '【广东台触电新闻】北京理工大学珠海学院荣获“2020年度品牌影响力独立学院”'), ('https://static.nfapp.southcn.com/content/202012/13/c4430862.html?colID=85&code=200&msg=%E7%99%BB%E5%BD%95%E6%88%90%E5%8A%9F&evidence=cb20509e-7364-437e-ac34-339d4d02348a&firstColID=85&appversion=7010&', '【南方日报】第六届港航物流发展（珠海）论坛召开'), ('https://ycpai.ycwb.com/amucsite/template/#/newsDetail/110013/1346557.html?isShare=true', '【羊城晚报】专家聚集珠海，探讨港航物流未来发展'), ('/meitiguanzhu/2020-12-14/29914.html', '【珠海特区报】用好新信息技术 打造智慧港口'), ('http://my-h5news.app.xinhuanet.com/h5/video.html?articleId=ab2cbc88-20ec-43f5-b8af-eddff51e80ee&share_device_token=a62f91b1fee025d80564592e0f5015ef&share_time=1606730401830&share_type=6', '【广东电视台】北理工珠海学院京涛海纳团队连续四年获全国百强实践团队'), ('https://zsrbapp.zsnews.cn/mobile/news/viewNews/2/557906', '【中山日报】专注家电“芯”，北京理工大学珠海学院半导体研究院落户中山'), ('http://skype.gmw.cn/news/content_18_5524.html', '【光明网】全国百强！北理珠这个学生团队连续四年“霸榜”'), ('https://m.mp.oeeee.com/a/BAAFRD000020201125383829.html?wxuid=ogVRcdPLJFqDrCAjFuMzZetOi7hA&wxsalt=101e4e', '【南方都市报】珠海这所高校连续四年“霸榜”，学生团队勇夺全国百强！')]\n"
     ]
    }
   ],
   "source": [
    "import re\n",
    "x = r'href=\"(.+)\" title=\"(.+)\"'\n",
    "match = re.findall(x,news)\n",
    "print(match)"
   ]
  },
  {
   "cell_type": "markdown",
   "id": "behind-sussex",
   "metadata": {},
   "source": [
    "<font size=4 color=\"red\">从卫生局发布的疫情文件中提取出每日需要发布的疫情数据并输出<font>"
   ]
  },
  {
   "cell_type": "code",
   "execution_count": 9,
   "id": "fiscal-option",
   "metadata": {},
   "outputs": [],
   "source": [
    "information = \"\"\"\n",
    "2022年2月27日广州市新冠肺炎疫情情况\n",
    "发布时间： 2022-02-28 11:15:00 浏览次数：637 来源：本网打印此文分享到：\n",
    "2022年2月27日0时至24时，全市新增境外输入确诊病例2例，新增境外输入关联本土无症状感染者1例，新增境外输入无症状感染者1例。新增出院病例7例。尚在院治疗69例。\n",
    "截至2022年2月27日24时，全市累计报告新冠肺炎阳性感染者4564例，其中确诊病例2227例（境外输入1699例、本土528例），无症状感染者2337例（境外输入2122例、本土215例）。\n",
    "新增2例境外输入确诊病例情况\n",
    "境外输入确诊病例1：女，35岁，中国籍。2月20日从新西兰乘坐CZ306航班于次日飞抵广州入境。\n",
    "境外输入确诊病例2：男，35岁，中国籍。2月25日从科威特乘坐KU419航班于当日飞抵广州入境。\n",
    "上述病例入境后，按全程闭环管理程序转运至集中隔离点。隔离期间检测新冠病毒核酸阳性，即转广州医科大学附属市八医院隔离治疗。经进一步检查和专家会诊，诊断为新冠肺炎确诊病例。\n",
    "新增1例境外输入关联本土无症状感染者情况：男，32岁，中国籍，白云国际机场国外航班装卸工人。近14天均居住于高风险岗位人员集中居住场所，实施全程闭环管理。新冠病毒核酸检测\n",
    "频次为“1天1检”，此前例行核酸检测结果均为阴性。2月26日核酸初筛阳性，经市疾控中心复核阳性，即闭环转运至广州医科大学附属市八医院隔离医学观察。经进一步检查和专家会诊，\n",
    "2月27日诊断为新冠病毒无症状感染者。\n",
    "新增1例境外输入无症状感染者情况：男，45岁，中国籍。2月9日从刚果金出发，先后乘坐KQ584、KQ880航班于2月12日飞抵广州入境，按全程闭环管理程序转运至集中隔离点。\n",
    "隔离期间检测新冠病毒核酸阳性，即转广州医科大学附属市八医院隔离治疗。\n",
    "\"\"\""
   ]
  },
  {
   "cell_type": "code",
   "execution_count": 23,
   "id": "unnecessary-guarantee",
   "metadata": {},
   "outputs": [
    {
     "name": "stdout",
     "output_type": "stream",
     "text": [
      "全市新增案例： 2\n",
      "全市新增确诊案例： ['2']\n"
     ]
    }
   ],
   "source": [
    "new_out_rules = r\"新增境外输入确诊病例(\\d+)例\"\n",
    "print(\"全市新增案例：\",re.findall(new_out_rules,information)[0])\n",
    "new_true_rules = r\"输入确诊病例(\\d+)\"\n",
    "print(\"全市新增确诊案例：\",re.findall(new_true_rules,information[:160]))"
   ]
  },
  {
   "cell_type": "code",
   "execution_count": null,
   "id": "disturbed-bathroom",
   "metadata": {},
   "outputs": [],
   "source": []
  },
  {
   "cell_type": "code",
   "execution_count": null,
   "id": "romance-passport",
   "metadata": {},
   "outputs": [],
   "source": []
  },
  {
   "cell_type": "markdown",
   "id": "korean-funds",
   "metadata": {},
   "source": [
    "<font size=7 color=\"red\">实验题：编写一个客服机器人(函数)</font>"
   ]
  },
  {
   "cell_type": "raw",
   "id": "swedish-characterization",
   "metadata": {},
   "source": [
    "目标：输入一个问题，客服机器人能进行回答。\n",
    "例如：\n",
    "Q:您好请问我的快递编号是多少？\n",
    "A：您好！您的快递编号为：98757！\n",
    "Q：您好请问我的快递是哪家公司？\n",
    "A：亲，为您选择的快递公司为百世汇通。\n",
    "Q:您好！请问我可以投诉你吗？\n",
    "A：您好！亲！请千万不要投诉我，含泪请求！"
   ]
  },
  {
   "cell_type": "markdown",
   "id": "introductory-conservative",
   "metadata": {},
   "source": [
    "<font size=4 color=\"red\">提示：完成一个快递编号询问！</font>"
   ]
  },
  {
   "cell_type": "code",
   "execution_count": null,
   "id": "chicken-spelling",
   "metadata": {},
   "outputs": [],
   "source": []
  },
  {
   "cell_type": "code",
   "execution_count": null,
   "id": "happy-details",
   "metadata": {},
   "outputs": [],
   "source": [
    "\"\"\"\n",
    "ID\tNAME\tPRICE\tCOMPANY\tSTATE\tSTART_TIME\tEND_TIME\tSTART_LOCAL\tEND_LOCAL\tACCOUNT\tSAVE\tCOMPLAINTS\n",
    "89757\t手机\t6000\t百世汇通\t拣货\t4.1\t4.3\t深圳\t珠海\tmiss/20210307\t优惠\t投诉\n",
    "\"\"\""
   ]
  },
  {
   "cell_type": "code",
   "execution_count": null,
   "id": "ranking-impossible",
   "metadata": {},
   "outputs": [],
   "source": [
    "1.发什么快递？\n",
    "2.什么时候发货？\n",
    "3.大概需要多久到？\n",
    "4.有没有7天无条件退货？\n",
    "5.有没有优惠券？\n",
    "6.发货地址？\n",
    "7.包邮吗？\n",
    "8.有没有赠品？\n",
    "9.订单号是多少？\n",
    "10.开不开发票？"
   ]
  },
  {
   "cell_type": "code",
   "execution_count": null,
   "id": "empty-fantasy",
   "metadata": {},
   "outputs": [],
   "source": [
    "1.获取问题！\n",
    "2.问题做分类！\n",
    "3.回答问题！\n",
    "...\n",
    "4.退出！\n",
    "\n",
    "1. f(x)  分类 问题   答案！\n",
    "2. f1(x) f(x)while循环  退出"
   ]
  }
 ],
 "metadata": {
  "kernelspec": {
   "display_name": "Python 3",
   "language": "python",
   "name": "python3"
  },
  "language_info": {
   "codemirror_mode": {
    "name": "ipython",
    "version": 3
   },
   "file_extension": ".py",
   "mimetype": "text/x-python",
   "name": "python",
   "nbconvert_exporter": "python",
   "pygments_lexer": "ipython3",
   "version": "3.7.0"
  }
 },
 "nbformat": 4,
 "nbformat_minor": 5
}
