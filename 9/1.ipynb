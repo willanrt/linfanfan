{
 "cells": [
  {
   "cell_type": "code",
   "execution_count": 1,
   "metadata": {
    "pycharm": {
     "name": "#%%\n"
    }
   },
   "outputs": [],
   "source": [
    "from tkinter import *\n",
    "\n",
    "\n",
    "def click(num):\n",
    "  global op\n",
    "  op = op+str(num)\n",
    "  iptext.set(op)\n",
    "\n",
    "\n",
    "def evaluate():\n",
    "  global op\n",
    "  output = str(eval(op))\n",
    "  iptext.set(output)\n",
    "\n",
    "\n",
    "def clearDisplay():\n",
    "  global op\n",
    "  op = \"\"\n",
    "  iptext.set(op)\n",
    "\n",
    "\n",
    "calc = Tk()\n",
    "calc.title(\"TechVidvan Calculator\")\n",
    "op = \"\"\n",
    "\n",
    "iptext = StringVar()\n",
    "iparea = Entry(calc, font=('large,_font', 15, 'bold'), bd=10,\n",
    "               justify=\"right\", insertwidth=4, textvariable=iptext).grid(columnspan=10)\n",
    "\n",
    "bt7 = Button(calc, font=('arial', 15, 'bold'), command=lambda: click(\n",
    "    7), bg=\"lavender\", text=\"7\", bd=5, padx=15, pady=10).grid(row=1, column=0)\n",
    "\n",
    "bt8 = Button(calc, font=('arial', 15, 'bold'), command=lambda: click(\n",
    "    8), bg=\"lavender\", text=\"8\", bd=5, padx=15, pady=10).grid(row=1, column=1)\n",
    "\n",
    "bt9 = Button(calc, font=('arial', 15, 'bold'), command=lambda: click(\n",
    "    9), bg=\"lavender\", text=\"9\", bd=5, padx=15, pady=10).grid(row=1, column=2)\n",
    "\n",
    "add = Button(calc, font=('arial', 15, 'bold'), command=lambda: click(\n",
    "    '+'), bg=\"lavender\", text=\"+\", bd=5, padx=15, pady=10).grid(row=1, column=3)\n",
    "\n",
    "bt4 = Button(calc, font=('arial', 15, 'bold'), command=lambda: click(\n",
    "    4), bg=\"lavender\", text=\"4\", bd=5, padx=15, pady=10).grid(row=2, column=0)\n",
    "\n",
    "bt5 = Button(calc, font=('arial', 15, 'bold'), command=lambda: click(\n",
    "    5), bg=\"lavender\", text=\"5\", bd=5, padx=15, pady=10).grid(row=2, column=1)\n",
    "\n",
    "bt6 = Button(calc, font=('arial', 15, 'bold'), command=lambda: click(\n",
    "    6), bg=\"lavender\", text=\"6\", bd=5, padx=15, pady=10).grid(row=2, column=2)\n",
    "\n",
    "sub = Button(calc, font=('arial', 15, 'bold'), command=lambda: click(\n",
    "    '-'), bg=\"lavender\", text=\"-\", bd=5, padx=15, pady=10).grid(row=2, column=3)\n",
    "\n",
    "bt1 = Button(calc, font=('arial', 15, 'bold'), command=lambda: click(\n",
    "    1), bg=\"lavender\", text=\"1\", bd=5, padx=15, pady=10).grid(row=3, column=0)\n",
    "\n",
    "bt2 = Button(calc, font=('arial', 15, 'bold'), command=lambda: click(\n",
    "    2), bg=\"lavender\", text=\"2\", bd=5, padx=15, pady=10).grid(row=3, column=1)\n",
    "\n",
    "bt3 = Button(calc, font=('arial', 15, 'bold'), command=lambda: click(\n",
    "    3), bg=\"lavender\", text=\"3\", bd=5, padx=15, pady=10).grid(row=3, column=2)\n",
    "\n",
    "mul = Button(calc, font=('arial', 15, 'bold'), command=lambda: click(\n",
    "    '*'), bg=\"lavender\", text=\"*\", bd=5, padx=15, pady=10).grid(row=3, column=3)\n",
    "\n",
    "bt0 = Button(calc, font=('arial', 15, 'bold'), command=lambda: click(\n",
    "    0), bg=\"lavender\", text=\"0\", bd=5, padx=15, pady=10).grid(row=4, column=0)\n",
    "\n",
    "btC = Button(calc, font=('arial', 15, 'bold'), command=clearDisplay,\n",
    "             bg=\"lavender\", text=\"C\", bd=5, padx=15, pady=10).grid(row=4, column=1)\n",
    "\n",
    "eql = Button(calc, font=('arial', 15, 'bold'), command=evaluate,\n",
    "             bg=\"lavender\", text=\"=\", bd=5, padx=15, pady=10).grid(row=4, column=2)\n",
    "\n",
    "div = Button(calc, font=('arial', 15, 'bold'), command=lambda: click(\n",
    "    '/'), bg=\"lavender\", text=\"/\", bd=5, padx=15, pady=10).grid(row=4, column=3)\n",
    "\n",
    "calc.mainloop()\n"
   ]
  },
  {
   "cell_type": "code",
   "execution_count": null,
   "metadata": {
    "pycharm": {
     "name": "#%%\n"
    }
   },
   "outputs": [],
   "source": []
  }
 ],
 "metadata": {
  "interpreter": {
   "hash": "a43502c50d07f7165276fc6a1ee3ef0553f4d2b4a04056ae2fd12adc625fa980"
  },
  "kernelspec": {
   "display_name": "Python 3.10.4 64-bit",
   "language": "python",
   "name": "python3"
  },
  "language_info": {
   "codemirror_mode": {
    "name": "ipython",
    "version": 3
   },
   "file_extension": ".py",
   "mimetype": "text/x-python",
   "name": "python",
   "nbconvert_exporter": "python",
   "pygments_lexer": "ipython3",
   "version": "3.10.4"
  },
  "orig_nbformat": 4
 },
 "nbformat": 4,
 "nbformat_minor": 2
}