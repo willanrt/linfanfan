{
 "cells": [
  {
   "cell_type": "code",
   "execution_count": 1,
   "metadata": {
    "pycharm": {
     "name": "#%%\n"
    }
   },
   "outputs": [
    {
     "ename": "TypeError",
     "evalue": "Font(): arguments did not match any overloaded call:\n  overload 1: too many arguments\n  overload 2: argument 1 has unexpected type 'int'\n  overload 3: argument 1 has unexpected type 'int'\n  overload 4: 'face' is not a valid keyword argument\n  overload 5: argument 1 has unexpected type 'int'\n  overload 6: argument 1 has unexpected type 'int'\n  overload 7: argument 1 has unexpected type 'int'",
     "output_type": "error",
     "traceback": [
      "\u001B[1;31m---------------------------------------------------------------------------\u001B[0m",
      "\u001B[1;31mTypeError\u001B[0m                                 Traceback (most recent call last)",
      "\u001B[1;32m~\\AppData\\Local\\Temp\\ipykernel_18540\\3084756474.py\u001B[0m in \u001B[0;36mOnInit\u001B[1;34m(self)\u001B[0m\n\u001B[0;32m     71\u001B[0m \u001B[1;32mclass\u001B[0m \u001B[0mApp\u001B[0m\u001B[1;33m(\u001B[0m\u001B[0mwx\u001B[0m\u001B[1;33m.\u001B[0m\u001B[0mApp\u001B[0m\u001B[1;33m)\u001B[0m\u001B[1;33m:\u001B[0m\u001B[1;33m\u001B[0m\u001B[1;33m\u001B[0m\u001B[0m\n\u001B[0;32m     72\u001B[0m   \u001B[1;32mdef\u001B[0m \u001B[0mOnInit\u001B[0m\u001B[1;33m(\u001B[0m\u001B[0mself\u001B[0m\u001B[1;33m)\u001B[0m\u001B[1;33m:\u001B[0m\u001B[1;33m\u001B[0m\u001B[1;33m\u001B[0m\u001B[0m\n\u001B[1;32m---> 73\u001B[1;33m     \u001B[0mself\u001B[0m\u001B[1;33m.\u001B[0m\u001B[0mframe\u001B[0m \u001B[1;33m=\u001B[0m \u001B[0mCalcFrame\u001B[0m\u001B[1;33m(\u001B[0m\u001B[1;34mu'计算器'\u001B[0m\u001B[1;33m)\u001B[0m\u001B[1;33m\u001B[0m\u001B[1;33m\u001B[0m\u001B[0m\n\u001B[0m\u001B[0;32m     74\u001B[0m     \u001B[0mself\u001B[0m\u001B[1;33m.\u001B[0m\u001B[0mframe\u001B[0m\u001B[1;33m.\u001B[0m\u001B[0mCenter\u001B[0m\u001B[1;33m(\u001B[0m\u001B[1;33m)\u001B[0m\u001B[1;33m\u001B[0m\u001B[1;33m\u001B[0m\u001B[0m\n\u001B[0;32m     75\u001B[0m     \u001B[0mself\u001B[0m\u001B[1;33m.\u001B[0m\u001B[0mframe\u001B[0m\u001B[1;33m.\u001B[0m\u001B[0mShow\u001B[0m\u001B[1;33m(\u001B[0m\u001B[1;33m)\u001B[0m\u001B[1;33m\u001B[0m\u001B[1;33m\u001B[0m\u001B[0m\n",
      "\u001B[1;32m~\\AppData\\Local\\Temp\\ipykernel_18540\\3084756474.py\u001B[0m in \u001B[0;36m__init__\u001B[1;34m(self, title)\u001B[0m\n\u001B[0;32m     12\u001B[0m     self.textprint = wx.TextCtrl(\n\u001B[0;32m     13\u001B[0m         panel, -1, '', style=wx.TE_RIGHT | wx.TE_READONLY)  # 文本控制控件\n\u001B[1;32m---> 14\u001B[1;33m     self.bgFont = wx.Font(25, wx.SWISS, wx.NORMAL,\n\u001B[0m\u001B[0;32m     15\u001B[0m                           wx.BOLD, face=u'Roboto')  # 设置字体样式\n\u001B[0;32m     16\u001B[0m     \u001B[0mself\u001B[0m\u001B[1;33m.\u001B[0m\u001B[0mtextprint\u001B[0m\u001B[1;33m.\u001B[0m\u001B[0mSetFont\u001B[0m\u001B[1;33m(\u001B[0m\u001B[0mself\u001B[0m\u001B[1;33m.\u001B[0m\u001B[0mbgFont\u001B[0m\u001B[1;33m)\u001B[0m  \u001B[1;31m# 使用SetFont将设置的字体样式运用在textprint中\u001B[0m\u001B[1;33m\u001B[0m\u001B[1;33m\u001B[0m\u001B[0m\n",
      "\u001B[1;31mTypeError\u001B[0m: Font(): arguments did not match any overloaded call:\n  overload 1: too many arguments\n  overload 2: argument 1 has unexpected type 'int'\n  overload 3: argument 1 has unexpected type 'int'\n  overload 4: 'face' is not a valid keyword argument\n  overload 5: argument 1 has unexpected type 'int'\n  overload 6: argument 1 has unexpected type 'int'\n  overload 7: argument 1 has unexpected type 'int'"
     ]
    },
    {
     "ename": "SystemExit",
     "evalue": "OnInit returned false, exiting...",
     "output_type": "error",
     "traceback": [
      "An exception has occurred, use %tb to see the full traceback.\n",
      "\u001B[1;31mSystemExit\u001B[0m\u001B[1;31m:\u001B[0m OnInit returned false, exiting...\n"
     ]
    },
    {
     "name": "stderr",
     "output_type": "stream",
     "text": [
      "c:\\Users\\f1241\\AppData\\Local\\Programs\\Python\\Python310\\lib\\site-packages\\IPython\\core\\interactiveshell.py:3532: UserWarning: To exit: use 'exit', 'quit', or Ctrl-D.\n",
      "  warn(\"To exit: use 'exit', 'quit', or Ctrl-D.\", stacklevel=1)\n"
     ]
    }
   ],
   "source": [
    "import wx\n",
    "class CalcFrame(wx.Frame):  # 建造一个继承于wx.Frame的frame\n",
    "  def __init__(self, title):\n",
    "    wx.Frame.__init__(self, None, -1, title,\n",
    "                      pos=(100, 300), size=(300, 320))\n",
    "    panel = wx.Panel(self)\n",
    "    boxsize = wx.BoxSizer(wx.VERTICAL)\n",
    "    gridBox = wx.GridSizer(4, 4, 1, 1)\n",
    "    self.equation = \"\"  # 记录一个等式，把它print到TextCtrl中\n",
    "    self.textprint = wx.TextCtrl(\n",
    "        panel, -1, '', style=wx.TE_RIGHT | wx.TE_READONLY)  # 文本控制控件\n",
    "    self.bgFont = wx.Font(25, wx.SWISS, wx.NORMAL,\n",
    "                          wx.BOLD, face=u'Roboto')  # 设置字体样式\n",
    "    self.textprint.SetFont(self.bgFont)  # 使用SetFont将设置的字体样式运用在textprint中\n",
    "    self.textprint.SetForegroundColour('black')  # 设置前景色\n",
    "    self.textprint.SetBackgroundColour('white')  # 设置后景色\n",
    "    self.buttonData = \"7 8 9 DEL 4 5 6 AC 1 2 3 * / + - =\".split()\n",
    "    #产生buttonIterm的label\n",
    "    #将label分配到按钮上去\n",
    "    buttonLength = len(self.buttonData)\n",
    "    for i in range(buttonLength):\n",
    "      labels = \"%s\" % self.buttonData[i]\n",
    "      buttonIterm = wx.Button(panel, i, labels)\n",
    "      self.createHandler(buttonIterm, labels)\n",
    "      gridBox.Add(buttonIterm, 0, flag=wx.EXPAND)\n",
    "    boxsize.Add(self.textprint, 1, flag=wx.EXPAND)  # 在boxsize中加上文本控制控件，比例为1\n",
    "    boxsize.Add(gridBox, 5, flag=wx.EXPAND)\n",
    "    panel.SetSizerAndFit(boxsize)  # 将boxsize放入panel里\n",
    "\n",
    "  def createHandler(self, button, labels):\n",
    "    #self.Bind(wx.EVT_BUTTON, self.OnButton1, self.Button1)\n",
    "    #这里self是一个Frame（wxPython中的窗体这样的东西），而Button1是放在这个Frame下面的一个Button，self.OnButton1就是事件处理函数。而wxPython定死了事件处理函数的形式：\n",
    "    items = \"DEL AC =\"\n",
    "    if labels not in items:\n",
    "      self.Bind(wx.EVT_BUTTON, self.OnAppend, button)\n",
    "    elif labels == 'DEL':\n",
    "      self.Bind(wx.EVT_BUTTON, self.OnDel, button)\n",
    "    elif labels == 'AC':\n",
    "      self.Bind(wx.EVT_BUTTON, self.OnAc, button)\n",
    "    elif labels == '=':\n",
    "      self.Bind(wx.EVT_BUTTON, self.OnEqual, button)\n",
    "\n",
    "  def OnAppend(self, event):\n",
    "    eventbutton = event.GetEventObject()\n",
    "    label = eventbutton.GetLabel()\n",
    "    self.equation += label\n",
    "    self.textprint.SetValue(self.equation)\n",
    "\n",
    "  def OnDel(self, event):\n",
    "    self.equation = self.equation[:-1]\n",
    "    self.textprint.SetValue(self.equation)\n",
    "\n",
    "  def OnAc(self, event):\n",
    "    self.textprint.Clear()\n",
    "    self.equation = \"\"\n",
    "\n",
    "  def OnEqual(self, event):\n",
    "    string = self.equation\n",
    "    try:\n",
    "      taget = eval(string)  # 执行这段代码得到的结果\n",
    "      self.equation = str(taget)\n",
    "      self.textprint.SetValue(self.equation)\n",
    "    except SyntaxError:  # 弹出消息对话框\n",
    "      dlg = wx.MessageDialog(self, u'输入格式错误', wx.Ok | wx.ICON_INFORMATION)\n",
    "      dlg.ShowModal()\n",
    "      dlg.Destory()\n",
    "\n",
    "\n",
    "class App(wx.App):\n",
    "  def OnInit(self):\n",
    "    self.frame = CalcFrame(u'计算器')\n",
    "    self.frame.Center()\n",
    "    self.frame.Show()\n",
    "    return True\n",
    "\n",
    "\n",
    "if __name__ == \"__main__\":\n",
    "  app = App()\n",
    "app.MainLoop()\n"
   ]
  },
  {
   "cell_type": "code",
   "execution_count": null,
   "metadata": {
    "pycharm": {
     "name": "#%%\n"
    }
   },
   "outputs": [],
   "source": []
  }
 ],
 "metadata": {
  "interpreter": {
   "hash": "a43502c50d07f7165276fc6a1ee3ef0553f4d2b4a04056ae2fd12adc625fa980"
  },
  "kernelspec": {
   "display_name": "Python 3.10.4 64-bit",
   "language": "python",
   "name": "python3"
  },
  "language_info": {
   "codemirror_mode": {
    "name": "ipython",
    "version": 3
   },
   "file_extension": ".py",
   "mimetype": "text/x-python",
   "name": "python",
   "nbconvert_exporter": "python",
   "pygments_lexer": "ipython3",
   "version": "3.10.4"
  },
  "orig_nbformat": 4
 },
 "nbformat": 4,
 "nbformat_minor": 2
}