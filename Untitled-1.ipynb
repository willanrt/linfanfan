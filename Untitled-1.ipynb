{
 "cells": [
  {
   "cell_type": "code",
   "execution_count": 1,
   "metadata": {},
   "outputs": [],
   "source": [
    "import wx \n"
   ]
  },
  {
   "cell_type": "code",
   "execution_count": 2,
   "metadata": {},
   "outputs": [],
   "source": [
    "class App(wx.App):\n",
    "    def OnInit(self):\n",
    "        frame = wx.Frame(parent = None, title = \"hello wxpython\")\n",
    "        frame.Show()\n",
    "        return True\n",
    "if __name__ == \"__main__\":\n",
    "    app = App()\n",
    "    app.OnInit()\n",
    "    \n"
   ]
  },
  {
   "cell_type": "code",
   "execution_count": 1,
   "metadata": {},
   "outputs": [
    {
     "data": {
      "text/plain": [
       "0"
      ]
     },
     "execution_count": 1,
     "metadata": {},
     "output_type": "execute_result"
    }
   ],
   "source": [
    "import wx\n",
    "app = wx.App()\n",
    "frame = wx.Frame(parent=None, title=\"hello wxpython\", size = (300,300))\n",
    "txt = wx.StaticText(parent=frame,label = \"账户\", pos = (5,5))\n",
    "path_txt = wx.TextCtrl(frame, pos = (45,5),size = (50,24))\n",
    "path1_txt = wx.TextCtrl(frame, pos=(150, 5), size=(50, 24))\n",
    "open_button = wx.Button(frame,label = \"登录\",pos=(100,24))\n",
    "frame.Show()\n",
    "app.MainLoop()"
   ]
  },
  {
   "cell_type": "code",
   "execution_count": null,
   "metadata": {},
   "outputs": [],
   "source": []
  }
 ],
 "metadata": {
  "interpreter": {
   "hash": "041f28ff36a992f0ce1e1d01f24835557524961c1d26919529d012b4754275df"
  },
  "kernelspec": {
   "display_name": "Python 3.10.4 64-bit",
   "language": "python",
   "name": "python3"
  },
  "language_info": {
   "codemirror_mode": {
    "name": "ipython",
    "version": 3
   },
   "file_extension": ".py",
   "mimetype": "text/x-python",
   "name": "python",
   "nbconvert_exporter": "python",
   "pygments_lexer": "ipython3",
   "version": "3.10.4"
  },
  "orig_nbformat": 4
 },
 "nbformat": 4,
 "nbformat_minor": 2
}
