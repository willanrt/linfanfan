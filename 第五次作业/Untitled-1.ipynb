{
 "cells": [
  {
   "cell_type": "code",
   "execution_count": 2,
   "metadata": {},
   "outputs": [],
   "source": [
    "# 定义一个计算BMI的的函数\n",
    "def bmi():\n",
    "    weight = float(input(\"体重（kg）：\")) #输入所需体重的数据\n",
    "    stature = float(input(\"身高（m）：\"))  # 输入所需身高的数据\n",
    "    bmi_process = weight/(stature*stature) # 定义计算的过程\n",
    "    return bmi_process # 返回计算值\n"
   ]
  },
  {
   "cell_type": "code",
   "execution_count": 3,
   "metadata": {},
   "outputs": [],
   "source": [
    "\n",
    "# 定义一个计算FAT的的函数\n",
    "def fat():\n",
    "    weight = float(input(\"体重（kg）：\"))  # 输入所需体重的数据\n",
    "    upper_arm =float(input(\"腰围（cm）：\")) # 输入所需腰围的数据\n",
    "    #为计算FAT进行的处理\n",
    "    a = upper_arm*0.74 # 处理腰围数据\n",
    "    b = weight*0.082+44.74 # 处理体重数据\n",
    "    fat_weight = a-b\n",
    "    # 计算FAT的数据\n",
    "    return (fat_weight/weight)*100  # 返回计算值\n",
    "\n"
   ]
  },
  {
   "cell_type": "code",
   "execution_count": 4,
   "metadata": {},
   "outputs": [],
   "source": [
    "# 创建一个母类，其中包含Bmi和Fat这两个函数\n",
    "# 定义一个类\n",
    "class Health:\n",
    "    # 属性\n",
    "    stature = '1.80m'\n",
    "    weight = '70kg'\n",
    "    upper_arm = '80cm'\n",
    "    # 调用函数\n",
    "    def Bmi(self):\n",
    "        q = bmi()\n",
    "        return q\n",
    "    def Fat(self):\n",
    "        w = fat()\n",
    "        return w\n",
    "\n"
   ]
  },
  {
   "cell_type": "code",
   "execution_count": 5,
   "metadata": {},
   "outputs": [],
   "source": [
    "# 创建一个子类，用来调用母类的属性\n",
    "# 定义一个类·\n",
    "class Happy(Health):\n",
    "    #调用函数\n",
    "    def Eat(self):\n",
    "        bmi1 = self.Bmi()\n",
    "        print(bmi1)\n",
    "        if bmi1 > 23.99:  # if函数进行数据的归属\n",
    "            return\"你的BMI大于正常范围(BMI的正常范围在18.5-23.99)\"\n",
    "        elif bmi1 < 18.5:\n",
    "            return\"你的BMI小于正常范围(BMI的正常范围在18.5-23.99)\"\n",
    "        else:\n",
    "            return\"你的BMI处于正常范围内(BMI的正常范围在18.5-23.99)\"\n",
    "    def Fbt(self):\n",
    "        fat1 = self.Fat()\n",
    "        print(fat1)\n",
    "        if fat1>0.18:\n",
    "            return \"你的FAT大于正常范围(FAT的正常范围在0.15-0.18之间)\"\n",
    "        elif fat1 <0.15:\n",
    "            return \"你的FAT小于正常范围(FAT的正常范围在0.15-0.18之间)\"\n",
    "        else:\n",
    "            return \"你的FAT处于正常范围(FAT的正常范围在0.15-0.18之间)\"\n",
    "\n",
    "\n",
    "\n"
   ]
  },
  {
   "cell_type": "code",
   "execution_count": 6,
   "metadata": {},
   "outputs": [
    {
     "name": "stdout",
     "output_type": "stream",
     "text": [
      "21.604938271604937\n",
      "你的BMI处于正常范围内(BMI的正常范围在18.5-23.99)\n",
      "12.457142857142856\n",
      "你的FAT大于正常范围(FAT的正常范围在0.15-0.18之间)\n"
     ]
    }
   ],
   "source": [
    "# 调用函数\n",
    "y = Happy()\n",
    "print(y.Eat())\n",
    "print(y.Fbt())"
   ]
  },
  {
   "cell_type": "code",
   "execution_count": null,
   "metadata": {},
   "outputs": [],
   "source": []
  }
 ],
 "metadata": {
  "interpreter": {
   "hash": "041f28ff36a992f0ce1e1d01f24835557524961c1d26919529d012b4754275df"
  },
  "kernelspec": {
   "display_name": "Python 3.10.4 64-bit",
   "language": "python",
   "name": "python3"
  },
  "language_info": {
   "codemirror_mode": {
    "name": "ipython",
    "version": 3
   },
   "file_extension": ".py",
   "mimetype": "text/x-python",
   "name": "python",
   "nbconvert_exporter": "python",
   "pygments_lexer": "ipython3",
   "version": "3.10.4"
  },
  "orig_nbformat": 4
 },
 "nbformat": 4,
 "nbformat_minor": 2
}
