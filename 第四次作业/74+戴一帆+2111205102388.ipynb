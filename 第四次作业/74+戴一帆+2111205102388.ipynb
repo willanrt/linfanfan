{
 "cells": [
  {
   "cell_type": "code",
   "execution_count": 15,
   "metadata": {},
   "outputs": [
    {
     "name": "stdout",
     "output_type": "stream",
     "text": [
      "UnitConverter\n",
      "2000g\n",
      "2.0t\n",
      "2000000g\n"
     ]
    }
   ],
   "source": [
    "class UnitConverter: #建立类\n",
    "    function = 'UnitConverter' # 类的属性\n",
    "    def __init__(self,function,unit ):\n",
    "        self.function = function\n",
    "        self.unit = unit\n",
    "    def kg_g(self, x):\n",
    "        result = x*1000\n",
    "        self.unit = 'g'\n",
    "        return str(result) + self.unit\n",
    "    def kg_t(self, x):\n",
    "        result = x/1000\n",
    "        self.unit = 't'\n",
    "        return str(result) + self.unit\n",
    "    def t_g(self, x):\n",
    "        result = x*1000*1000\n",
    "        self.unit = 'g'\n",
    "        return str(result) + self.unit\n",
    "y = UnitConverter('UnitConverter','unit')\n",
    "print(y.function)\n",
    "print(y.kg_g(2))\n",
    "print(y.kg_t(2000))\n",
    "print(y.t_g(2))\n"
   ]
  },
  {
   "cell_type": "code",
   "execution_count": null,
   "metadata": {},
   "outputs": [],
   "source": []
  },
  {
   "cell_type": "code",
   "execution_count": 10,
   "metadata": {},
   "outputs": [
    {
     "name": "stdout",
     "output_type": "stream",
     "text": [
      "Function\n",
      "x^2 = 4\n",
      "x^3 = 8\n",
      "x^4 = 16\n"
     ]
    }
   ],
   "source": [
    "class ChengFang:  # 建立类\n",
    "    Function = 'Function'  # 类的属性\n",
    "    def __init__(self,function,form):\n",
    "        self.function = function\n",
    "        self.form = form\n",
    "    def cifang2(self,x):\n",
    "        result = x*x\n",
    "        self.form = 'x^2 = '\n",
    "        return self.form + str(result)\n",
    "    def cifang3(self,x):\n",
    "        result = x*x*x\n",
    "        self.form = 'x^3 = '\n",
    "        return self.form + str(result)\n",
    "    def cifang4(self,x):\n",
    "        result = x*x*x*x\n",
    "        self.form = 'x^4 = '\n",
    "        return self.form + str(result)\n",
    "\n",
    "\n",
    "y = ChengFang('Function','form')#调用\n",
    "print(y.function)\n",
    "print(y.cifang2(2)) #数字2为计算的基底\n",
    "print(y.cifang3(2))\n",
    "print(y.cifang4(2))"
   ]
  },
  {
   "cell_type": "code",
   "execution_count": null,
   "metadata": {},
   "outputs": [],
   "source": []
  }
 ],
 "metadata": {
  "interpreter": {
   "hash": "041f28ff36a992f0ce1e1d01f24835557524961c1d26919529d012b4754275df"
  },
  "kernelspec": {
   "display_name": "Python 3.10.2 64-bit",
   "language": "python",
   "name": "python3"
  },
  "language_info": {
   "codemirror_mode": {
    "name": "ipython",
    "version": 3
   },
   "file_extension": ".py",
   "mimetype": "text/x-python",
   "name": "python",
   "nbconvert_exporter": "python",
   "pygments_lexer": "ipython3",
   "version": "3.10.4"
  },
  "orig_nbformat": 4
 },
 "nbformat": 4,
 "nbformat_minor": 2
}
